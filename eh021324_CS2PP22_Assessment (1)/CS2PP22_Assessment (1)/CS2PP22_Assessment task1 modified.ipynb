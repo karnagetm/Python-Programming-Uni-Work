{
 "cells": [
  {
   "cell_type": "markdown",
   "metadata": {
    "toc": true
   },
   "source": [
    "<h1>Table of Contents<span class=\"tocSkip\"></span></h1>\n",
    "<div class=\"toc\"><ul class=\"toc-item\"><li><span><a href=\"#CS2PP22-Programming-in-Python-for-Data-Science\" data-toc-modified-id=\"CS2PP22-Programming-in-Python-for-Data-Science-1\">CS2PP22 Programming in Python for Data Science</a></span><ul class=\"toc-item\"><li><span><a href=\"#Assessment-Task-1:-Data-Preprocessing,-Exploratory-Data-Analysis,-and-Python-Classes\" data-toc-modified-id=\"Assessment-Task-1:-Data-Preprocessing,-Exploratory-Data-Analysis,-and-Python-Classes-1.1\">Assessment Task 1: Data Preprocessing, Exploratory Data Analysis, and Python Classes</a></span><ul class=\"toc-item\"><li><span><a href=\"#1.0.-Analysis-Preparation\" data-toc-modified-id=\"1.0.-Analysis-Preparation-1.1.1\">1.0. Analysis Preparation</a></span><ul class=\"toc-item\"><li><span><a href=\"#1.0.1.-Import\" data-toc-modified-id=\"1.0.1.-Import-1.1.1.1\">1.0.1. Import</a></span></li><li><span><a href=\"#1.0.2.-Load-data\" data-toc-modified-id=\"1.0.2.-Load-data-1.1.1.2\">1.0.2. Load data</a></span></li><li><span><a href=\"#1.0.3.-Display-data\" data-toc-modified-id=\"1.0.3.-Display-data-1.1.1.3\">1.0.3. Display data</a></span></li><li><span><a href=\"#1.0.4.-Display-data-information\" data-toc-modified-id=\"1.0.4.-Display-data-information-1.1.1.4\">1.0.4. Display data information</a></span></li></ul></li><li><span><a href=\"#1.1.-Data-Cleaning\" data-toc-modified-id=\"1.1.-Data-Cleaning-1.1.2\">1.1. Data Cleaning</a></span><ul class=\"toc-item\"><li><span><a href=\"#1.1.1.-Remove-columns\" data-toc-modified-id=\"1.1.1.-Remove-columns-1.1.2.1\">1.1.1. Remove columns</a></span></li><li><span><a href=\"#1.1.2.-Rename-columns\" data-toc-modified-id=\"1.1.2.-Rename-columns-1.1.2.2\">1.1.2. Rename columns</a></span></li><li><span><a href=\"#1.1.3.-Remove-duplicated-rows\" data-toc-modified-id=\"1.1.3.-Remove-duplicated-rows-1.1.2.3\">1.1.3. Remove duplicated rows</a></span></li><li><span><a href=\"#1.1.4.-Null-values\" data-toc-modified-id=\"1.1.4.-Null-values-1.1.2.4\">1.1.4. Null values</a></span></li><li><span><a href=\"#1.1.5.-Handling-missing-values\" data-toc-modified-id=\"1.1.5.-Handling-missing-values-1.1.2.5\">1.1.5. Handling missing values</a></span></li><li><span><a href=\"#1.1.6.-Reasoning\" data-toc-modified-id=\"1.1.6.-Reasoning-1.1.2.6\">1.1.6. Reasoning</a></span></li></ul></li><li><span><a href=\"#1.2.-Creating-New-Columns\" data-toc-modified-id=\"1.2.-Creating-New-Columns-1.1.3\">1.2. Creating New Columns</a></span><ul class=\"toc-item\"><li><span><a href=\"#1.2.1.-Add-HP_Type\" data-toc-modified-id=\"1.2.1.-Add-HP_Type-1.1.3.1\">1.2.1. Add <code>HP_Type</code></a></span></li><li><span><a href=\"#1.2.2.--Add-Price_class\" data-toc-modified-id=\"1.2.2.--Add-Price_class-1.1.3.2\">1.2.2.  Add <code>Price_class</code></a></span></li><li><span><a href=\"#1.2.3-Save-modified-data\" data-toc-modified-id=\"1.2.3-Save-modified-data-1.1.3.3\">1.2.3 Save modified data</a></span></li></ul></li><li><span><a href=\"#1.3.-Exploratory-Data-Analysis\" data-toc-modified-id=\"1.3.-Exploratory-Data-Analysis-1.1.4\">1.3. Exploratory Data Analysis</a></span><ul class=\"toc-item\"><li><span><a href=\"#1.3.1.-Mean-price\" data-toc-modified-id=\"1.3.1.-Mean-price-1.1.4.1\">1.3.1. Mean price</a></span></li><li><span><a href=\"#1.3.2.-Count-cars-by-year\" data-toc-modified-id=\"1.3.2.-Count-cars-by-year-1.1.4.2\">1.3.2. Count cars by year</a></span></li><li><span><a href=\"#1.3.3.-Unique-Makes\" data-toc-modified-id=\"1.3.3.-Unique-Makes-1.1.4.3\">1.3.3. Unique Makes</a></span></li><li><span><a href=\"#1.3.4.-Fuel-efficiency\" data-toc-modified-id=\"1.3.4.-Fuel-efficiency-1.1.4.4\">1.3.4. Fuel efficiency</a></span></li><li><span><a href=\"#1.3.5.-Cross-tabulation\" data-toc-modified-id=\"1.3.5.-Cross-tabulation-1.1.4.5\">1.3.5. Cross-tabulation</a></span></li><li><span><a href=\"#1.3.6.-Isolating-specific-features\" data-toc-modified-id=\"1.3.6.-Isolating-specific-features-1.1.4.6\">1.3.6. Isolating specific features</a></span></li><li><span><a href=\"#1.3.7.-Isolating-specific-features\" data-toc-modified-id=\"1.3.7.-Isolating-specific-features-1.1.4.7\">1.3.7. Isolating specific features</a></span></li><li><span><a href=\"#1.3.8.-Counting-specific-features\" data-toc-modified-id=\"1.3.8.-Counting-specific-features-1.1.4.8\">1.3.8. Counting specific features</a></span></li><li><span><a href=\"#1.3.9.-Grouping-data\" data-toc-modified-id=\"1.3.9.-Grouping-data-1.1.4.9\">1.3.9. Grouping data</a></span></li><li><span><a href=\"#1.3.10.-Reporting-extreme-values\" data-toc-modified-id=\"1.3.10.-Reporting-extreme-values-1.1.4.10\">1.3.10. Reporting extreme values</a></span></li><li><span><a href=\"#1.3.11.-Visualising-data\" data-toc-modified-id=\"1.3.11.-Visualising-data-1.1.4.11\">1.3.11. Visualising data</a></span></li><li><span><a href=\"#1.3.12-Visualising-Data\" data-toc-modified-id=\"1.3.12-Visualising-Data-1.1.4.12\">1.3.12 Visualising Data</a></span></li></ul></li><li><span><a href=\"#1.4.-Fuel-Efficiency-Tournaments\" data-toc-modified-id=\"1.4.-Fuel-Efficiency-Tournaments-1.1.5\">1.4. Fuel Efficiency Tournaments</a></span><ul class=\"toc-item\"><li><span><a href=\"#1.4.1.-Define-a-Tournament-class\" data-toc-modified-id=\"1.4.1.-Define-a-Tournament-class-1.1.5.1\">1.4.1. Define a <code>Tournament</code> class</a></span></li><li><span><a href=\"#1.4.2.-Execute-your-Tournament-class\" data-toc-modified-id=\"1.4.2.-Execute-your-Tournament-class-1.1.5.2\">1.4.2. Execute your <code>Tournament</code> class</a></span></li><li><span><a href=\"#1.4.2.-Compare-the-results-of-multiple-Tournament-executions\" data-toc-modified-id=\"1.4.2.-Compare-the-results-of-multiple-Tournament-executions-1.1.5.3\">1.4.2. Compare the results of multiple <code>Tournament</code> executions</a></span></li></ul></li></ul></li></ul></li></ul></div>"
   ]
  },
  {
   "cell_type": "code",
   "execution_count": null,
   "metadata": {},
   "outputs": [],
   "source": [
    "Module Title: Programming in Python for Data Science\n",
    "\n",
    "Assignment Report Title: Task 1: Car Data Analysis\n",
    "\n",
    "Module Code: CS2PP22\n",
    "\n",
    "Student number: 30021324\n",
    "\n",
    "Name: Karan Patel\n",
    "\n",
    "Lecturer responsible: Dr Todd Jones\n",
    "\n",
    "Type of Assignment (coursework/online test): Coursework\n",
    "\n",
    "Individual / Group Assignment: Individual\n",
    "\n",
    "Weighting of the Assignment: 100%\n",
    "\n",
    "Page limit/Word count: Approximately 1,500 words, excluding captions and tables\n",
    "\n",
    "Expected hours spent for this assignment: 20 hours"
   ]
  },
  {
   "cell_type": "markdown",
   "metadata": {},
   "source": [
    "<hr style=\"border:2px solid black\"> </hr>\n",
    "\n",
    "# CS2PP22 Programming in Python for Data Science\n",
    "\n",
    "<h2 style=\"color:Crimson;\">Assessment Task 1: Data Preprocessing, Exploratory Data Analysis, and Python Classes</h2>\n",
    "\n",
    "**Instructions:** \n",
    "- Write Python code to perform each of the following sub-tasks.\n",
    "    - Try to follow the PEP 8 – Style Guide for Python Code: https://peps.python.org/pep-0008\n",
    "    - Function and variable annotations are not required.\n",
    "\n",
    "\n",
    "- Most of the required techniques are covered in the Lectures and Practicals during Weeks 1-5.\n",
    "\n",
    "\n",
    "- Some parts of this assignment may require further self-study of Python documentations or other resources.\n",
    "\n",
    "\n",
    "- To locate appropriate methods to complete these activities and for details regarding their proper implementation, you may wish to refer to: \n",
    "    - https://pandas.pydata.org/docs/reference/api/pandas.DataFrame.html \n",
    "    - https://numpy.org/doc/stable/reference/\n",
    "\n",
    "\n",
    "- You may also refer to other documentation/self-study resources, such as those suggested in the Lecture Notes or a multitude of other resources that you have independently discovered.\n",
    "\n",
    "\n",
    "- When you are asked to **display** a `pandas` `DataFrame`, it is acceptable to show the `head()`, `tail()`, or both of these, as display of the full dataset would otherwise be excessive.\n",
    "\n",
    "\n",
    "- Blank code and markdown cells are provided for each sub-task, however you will likely need to create additional cells to provide further explanation or sensibly separate steps toward solution.\n",
    "\n",
    "**Items to be submitted:**\n",
    "1. A modified version of this Jupyter notebook file (`.ipynb`)\n",
    "    - This should be fully executed in a serial fashion, from top to bottom.\n",
    "    - Try **Kernel** --> **Restart & Run All** to verify that this works as intended.\n",
    "    - Add a cell at the top of the notebook to note the installation method and version of any additional Python packages not included in the module's Anaconda distribution or that was not instructed to be installed during the module.\n",
    "    \n",
    "    \n",
    "2. `enhanced_boxplot.png`\n",
    "\n",
    "\n",
    "3. `popularity.png`\n",
    "\n",
    "\n",
    "4. `cardata_modified.csv`\n",
    "\n",
    "\n",
    "5. A copy of this notebook (**with the `CS2PP22_Assessment_Task1` label** as in Item 1.) but in `.pdf` format, which displays all content independently.  This can be included in the overall assessment archive, but an unarchived copy should be submitted to Blackboard alongside the archive.\n",
    "\n",
    "\n",
    "6. *Optional*: Any functions and classes created for this Task may be written in a separate `.py` module file and `import`ed to this space.  These should be stored in the submitted archive at the same directory level as the modified notebook (Item 1.).\n",
    "\n",
    "\n",
    "**Marking scheme:**\n",
    "\n",
    "Marks | Section\n",
    "-|:-\n",
    "5 | **Organisation**: Preparation and submission of all required files\n",
    "5 | **1.0**: Analysis Preparation\n",
    "15 |**1.1**: Data Cleaning\n",
    "5 | **1.2**: Creating New Columns\n",
    "20 |**1.3**: Exploratory Data Analysis\n",
    "40 |**1.4**: Fuel Efficiency Tournaments\n",
    "10 |**Overall**: Coding efficiency and structure, including comments and docstrings, where appropriate.\n",
    "\n",
    "\n",
    "**Data Reference:**\n",
    "\n",
    "- Car Features and MSRP Data:\t`cardata.csv`\n",
    "\n",
    "\n",
    "- This dataset includes car features such as make, model, year, and engine type, as scraped from Edmunds and Twitter.  It is often used to develop models to predict car prices based on their other characteristics. \n",
    "\n",
    "\n",
    "- Source: https://www.kaggle.com/datasets/CooperUnion/cardataset\n",
    "\n",
    "\n",
    "- Each **row** corresponds to a single kind of vehicle.\n",
    "\n",
    "\n",
    "- The **columns** correspond to:\n",
    "\n",
    "Column | Description\n",
    "-|:-\n",
    "Make | Car maker\n",
    "Model | Car model\n",
    "Year | Car year (Marketing)\n",
    "Engine Fuel Type | Type of engine fuel category\n",
    "Engine HP | Engine horsepower (HP)\n",
    "Engine Cylinders | Number of engine cylinders\n",
    "Transmission Type | Type of transmission category\n",
    "Driven_Wheels | Drive wheel category\n",
    "Number of Doors | Number of doors\n",
    "Market Category | Market category\n",
    "Vehicle Size | Vehicle size category\n",
    "Vehicle Style | Vehicle style category\n",
    "highway MPG | Highway fuel efficiency in miles per gallon\n",
    "city mpg | City fuel efficiency in miles per gallon\n",
    "Popularity | Twitter-based popularity metric\n",
    "MSRP | Manufacturer suggested retail price (USD)"
   ]
  },
  {
   "cell_type": "markdown",
   "metadata": {},
   "source": [
    "<hr style=\"border:2px solid black\"> </hr>\n",
    "\n",
    "### 1.0. Analysis Preparation\n",
    "\n",
    "**[5 Marks]**"
   ]
  },
  {
   "cell_type": "markdown",
   "metadata": {},
   "source": [
    "---\n",
    "\n",
    "#### 1.0.1. Import\n",
    "\n",
    "Import the libraries that will be used in your solution."
   ]
  },
  {
   "cell_type": "code",
   "execution_count": 1,
   "metadata": {},
   "outputs": [],
   "source": [
    "import pandas as pd"
   ]
  },
  {
   "cell_type": "markdown",
   "metadata": {},
   "source": [
    "---\n",
    "\n",
    "#### 1.0.2. Load data\n",
    "\n",
    "Locate the data file `cardata.csv` within the zipped file you have downloaded from Blackboard (under `./data/Task1/`) and read the data from file to a `pandas` `DataFrame`."
   ]
  },
  {
   "cell_type": "code",
   "execution_count": 2,
   "metadata": {},
   "outputs": [
    {
     "name": "stdout",
     "output_type": "stream",
     "text": [
      "  Make       Model  Year             Engine Fuel Type  Engine HP  \\\n",
      "0  BMW  1 Series M  2011  premium unleaded (required)      335.0   \n",
      "1  BMW    1 Series  2011  premium unleaded (required)      300.0   \n",
      "2  BMW    1 Series  2011  premium unleaded (required)      300.0   \n",
      "3  BMW    1 Series  2011  premium unleaded (required)      230.0   \n",
      "4  BMW    1 Series  2011  premium unleaded (required)      230.0   \n",
      "\n",
      "   Engine Cylinders Transmission Type     Driven_Wheels  Number of Doors  \\\n",
      "0               6.0            MANUAL  rear wheel drive              2.0   \n",
      "1               6.0            MANUAL  rear wheel drive              2.0   \n",
      "2               6.0            MANUAL  rear wheel drive              2.0   \n",
      "3               6.0            MANUAL  rear wheel drive              2.0   \n",
      "4               6.0            MANUAL  rear wheel drive              2.0   \n",
      "\n",
      "                         Market Category Vehicle Size Vehicle Style  \\\n",
      "0  Factory Tuner,Luxury,High-Performance      Compact         Coupe   \n",
      "1                     Luxury,Performance      Compact   Convertible   \n",
      "2                Luxury,High-Performance      Compact         Coupe   \n",
      "3                     Luxury,Performance      Compact         Coupe   \n",
      "4                                 Luxury      Compact   Convertible   \n",
      "\n",
      "   highway MPG  city mpg  Popularity   MSRP  \n",
      "0           26        19        3916  46135  \n",
      "1           28        19        3916  40650  \n",
      "2           28        20        3916  36350  \n",
      "3           28        18        3916  29450  \n",
      "4           28        18        3916  34500  \n"
     ]
    }
   ],
   "source": [
    "import pandas as pd\n",
    "cardata_df = pd.read_csv('data/Task1/cardata.csv')\n",
    "print(cardata_df.head())\n"
   ]
  },
  {
   "cell_type": "code",
   "execution_count": 3,
   "metadata": {},
   "outputs": [
    {
     "name": "stdout",
     "output_type": "stream",
     "text": [
      "  Make       Model  Year             Engine Fuel Type  Engine HP  \\\n",
      "0  BMW  1 Series M  2011  premium unleaded (required)      335.0   \n",
      "1  BMW    1 Series  2011  premium unleaded (required)      300.0   \n",
      "2  BMW    1 Series  2011  premium unleaded (required)      300.0   \n",
      "3  BMW    1 Series  2011  premium unleaded (required)      230.0   \n",
      "4  BMW    1 Series  2011  premium unleaded (required)      230.0   \n",
      "\n",
      "   Engine Cylinders Transmission Type     Driven_Wheels  Number of Doors  \\\n",
      "0               6.0            MANUAL  rear wheel drive              2.0   \n",
      "1               6.0            MANUAL  rear wheel drive              2.0   \n",
      "2               6.0            MANUAL  rear wheel drive              2.0   \n",
      "3               6.0            MANUAL  rear wheel drive              2.0   \n",
      "4               6.0            MANUAL  rear wheel drive              2.0   \n",
      "\n",
      "                         Market Category Vehicle Size Vehicle Style  \\\n",
      "0  Factory Tuner,Luxury,High-Performance      Compact         Coupe   \n",
      "1                     Luxury,Performance      Compact   Convertible   \n",
      "2                Luxury,High-Performance      Compact         Coupe   \n",
      "3                     Luxury,Performance      Compact         Coupe   \n",
      "4                                 Luxury      Compact   Convertible   \n",
      "\n",
      "   highway MPG  city mpg  Popularity   MSRP  \n",
      "0           26        19        3916  46135  \n",
      "1           28        19        3916  40650  \n",
      "2           28        20        3916  36350  \n",
      "3           28        18        3916  29450  \n",
      "4           28        18        3916  34500  \n"
     ]
    }
   ],
   "source": [
    "import pandas as pd\n",
    "cardata_df = pd.read_csv('data/Task1/cardata.csv')\n",
    "print(cardata_df.head())"
   ]
  },
  {
   "cell_type": "markdown",
   "metadata": {},
   "source": [
    "---\n",
    "\n",
    "#### 1.0.3. Display data\n",
    "\n",
    "Display the first 5 rows of the `DataFrame`."
   ]
  },
  {
   "cell_type": "code",
   "execution_count": 4,
   "metadata": {
    "scrolled": true
   },
   "outputs": [
    {
     "data": {
      "text/html": [
       "<div>\n",
       "<style scoped>\n",
       "    .dataframe tbody tr th:only-of-type {\n",
       "        vertical-align: middle;\n",
       "    }\n",
       "\n",
       "    .dataframe tbody tr th {\n",
       "        vertical-align: top;\n",
       "    }\n",
       "\n",
       "    .dataframe thead th {\n",
       "        text-align: right;\n",
       "    }\n",
       "</style>\n",
       "<table border=\"1\" class=\"dataframe\">\n",
       "  <thead>\n",
       "    <tr style=\"text-align: right;\">\n",
       "      <th></th>\n",
       "      <th>Make</th>\n",
       "      <th>Model</th>\n",
       "      <th>Year</th>\n",
       "      <th>Engine Fuel Type</th>\n",
       "      <th>Engine HP</th>\n",
       "      <th>Engine Cylinders</th>\n",
       "      <th>Transmission Type</th>\n",
       "      <th>Driven_Wheels</th>\n",
       "      <th>Number of Doors</th>\n",
       "      <th>Market Category</th>\n",
       "      <th>Vehicle Size</th>\n",
       "      <th>Vehicle Style</th>\n",
       "      <th>highway MPG</th>\n",
       "      <th>city mpg</th>\n",
       "      <th>Popularity</th>\n",
       "      <th>MSRP</th>\n",
       "    </tr>\n",
       "  </thead>\n",
       "  <tbody>\n",
       "    <tr>\n",
       "      <th>0</th>\n",
       "      <td>BMW</td>\n",
       "      <td>1 Series M</td>\n",
       "      <td>2011</td>\n",
       "      <td>premium unleaded (required)</td>\n",
       "      <td>335.0</td>\n",
       "      <td>6.0</td>\n",
       "      <td>MANUAL</td>\n",
       "      <td>rear wheel drive</td>\n",
       "      <td>2.0</td>\n",
       "      <td>Factory Tuner,Luxury,High-Performance</td>\n",
       "      <td>Compact</td>\n",
       "      <td>Coupe</td>\n",
       "      <td>26</td>\n",
       "      <td>19</td>\n",
       "      <td>3916</td>\n",
       "      <td>46135</td>\n",
       "    </tr>\n",
       "    <tr>\n",
       "      <th>1</th>\n",
       "      <td>BMW</td>\n",
       "      <td>1 Series</td>\n",
       "      <td>2011</td>\n",
       "      <td>premium unleaded (required)</td>\n",
       "      <td>300.0</td>\n",
       "      <td>6.0</td>\n",
       "      <td>MANUAL</td>\n",
       "      <td>rear wheel drive</td>\n",
       "      <td>2.0</td>\n",
       "      <td>Luxury,Performance</td>\n",
       "      <td>Compact</td>\n",
       "      <td>Convertible</td>\n",
       "      <td>28</td>\n",
       "      <td>19</td>\n",
       "      <td>3916</td>\n",
       "      <td>40650</td>\n",
       "    </tr>\n",
       "    <tr>\n",
       "      <th>2</th>\n",
       "      <td>BMW</td>\n",
       "      <td>1 Series</td>\n",
       "      <td>2011</td>\n",
       "      <td>premium unleaded (required)</td>\n",
       "      <td>300.0</td>\n",
       "      <td>6.0</td>\n",
       "      <td>MANUAL</td>\n",
       "      <td>rear wheel drive</td>\n",
       "      <td>2.0</td>\n",
       "      <td>Luxury,High-Performance</td>\n",
       "      <td>Compact</td>\n",
       "      <td>Coupe</td>\n",
       "      <td>28</td>\n",
       "      <td>20</td>\n",
       "      <td>3916</td>\n",
       "      <td>36350</td>\n",
       "    </tr>\n",
       "    <tr>\n",
       "      <th>3</th>\n",
       "      <td>BMW</td>\n",
       "      <td>1 Series</td>\n",
       "      <td>2011</td>\n",
       "      <td>premium unleaded (required)</td>\n",
       "      <td>230.0</td>\n",
       "      <td>6.0</td>\n",
       "      <td>MANUAL</td>\n",
       "      <td>rear wheel drive</td>\n",
       "      <td>2.0</td>\n",
       "      <td>Luxury,Performance</td>\n",
       "      <td>Compact</td>\n",
       "      <td>Coupe</td>\n",
       "      <td>28</td>\n",
       "      <td>18</td>\n",
       "      <td>3916</td>\n",
       "      <td>29450</td>\n",
       "    </tr>\n",
       "    <tr>\n",
       "      <th>4</th>\n",
       "      <td>BMW</td>\n",
       "      <td>1 Series</td>\n",
       "      <td>2011</td>\n",
       "      <td>premium unleaded (required)</td>\n",
       "      <td>230.0</td>\n",
       "      <td>6.0</td>\n",
       "      <td>MANUAL</td>\n",
       "      <td>rear wheel drive</td>\n",
       "      <td>2.0</td>\n",
       "      <td>Luxury</td>\n",
       "      <td>Compact</td>\n",
       "      <td>Convertible</td>\n",
       "      <td>28</td>\n",
       "      <td>18</td>\n",
       "      <td>3916</td>\n",
       "      <td>34500</td>\n",
       "    </tr>\n",
       "  </tbody>\n",
       "</table>\n",
       "</div>"
      ],
      "text/plain": [
       "  Make       Model  Year             Engine Fuel Type  Engine HP  \\\n",
       "0  BMW  1 Series M  2011  premium unleaded (required)      335.0   \n",
       "1  BMW    1 Series  2011  premium unleaded (required)      300.0   \n",
       "2  BMW    1 Series  2011  premium unleaded (required)      300.0   \n",
       "3  BMW    1 Series  2011  premium unleaded (required)      230.0   \n",
       "4  BMW    1 Series  2011  premium unleaded (required)      230.0   \n",
       "\n",
       "   Engine Cylinders Transmission Type     Driven_Wheels  Number of Doors  \\\n",
       "0               6.0            MANUAL  rear wheel drive              2.0   \n",
       "1               6.0            MANUAL  rear wheel drive              2.0   \n",
       "2               6.0            MANUAL  rear wheel drive              2.0   \n",
       "3               6.0            MANUAL  rear wheel drive              2.0   \n",
       "4               6.0            MANUAL  rear wheel drive              2.0   \n",
       "\n",
       "                         Market Category Vehicle Size Vehicle Style  \\\n",
       "0  Factory Tuner,Luxury,High-Performance      Compact         Coupe   \n",
       "1                     Luxury,Performance      Compact   Convertible   \n",
       "2                Luxury,High-Performance      Compact         Coupe   \n",
       "3                     Luxury,Performance      Compact         Coupe   \n",
       "4                                 Luxury      Compact   Convertible   \n",
       "\n",
       "   highway MPG  city mpg  Popularity   MSRP  \n",
       "0           26        19        3916  46135  \n",
       "1           28        19        3916  40650  \n",
       "2           28        20        3916  36350  \n",
       "3           28        18        3916  29450  \n",
       "4           28        18        3916  34500  "
      ]
     },
     "execution_count": 4,
     "metadata": {},
     "output_type": "execute_result"
    }
   ],
   "source": [
    "import pandas as pd\n",
    "datacsv = pd.read_csv('data/Task1/cardata.csv')\n",
    "datacsv.head(5)"
   ]
  },
  {
   "cell_type": "markdown",
   "metadata": {},
   "source": [
    "---\n",
    "\n",
    "#### 1.0.4. Display data information\n",
    "\n",
    "In one or more code cells, display the following information of the `DataFrame`:\n",
    "- number of rows\n",
    "- number of columns\n",
    "- column names and data types\n",
    "\n",
    "Following the display of this information, use a Markdown cell to write:\n",
    "- one sentence summarising the numbers of rows and columns,\n",
    "- and one sentence describing the unique data types.\n"
   ]
  },
  {
   "cell_type": "code",
   "execution_count": 5,
   "metadata": {},
   "outputs": [
    {
     "name": "stdout",
     "output_type": "stream",
     "text": [
      "Number of rows: 11914\n",
      "Number of columns: 16\n",
      "Column names and data types:\n",
      "Make                  object\n",
      "Model                 object\n",
      "Year                   int64\n",
      "Engine Fuel Type      object\n",
      "Engine HP            float64\n",
      "Engine Cylinders     float64\n",
      "Transmission Type     object\n",
      "Driven_Wheels         object\n",
      "Number of Doors      float64\n",
      "Market Category       object\n",
      "Vehicle Size          object\n",
      "Vehicle Style         object\n",
      "highway MPG            int64\n",
      "city mpg               int64\n",
      "Popularity             int64\n",
      "MSRP                   int64\n",
      "dtype: object\n"
     ]
    }
   ],
   "source": [
    "import pandas as pd\n",
    "\n",
    "cardata_df = pd.read_csv('data/Task1/cardata.csv')\n",
    "print(f\"Number of rows: {cardata_df.shape[0]}\")# the number of rows and columns\n",
    "print(f\"Number of columns: {cardata_df.shape[1]}\")\n",
    "\n",
    "print(\"Column names and data types:\")# column names and data types\n",
    "print(cardata_df.dtypes)\n",
    "\n"
   ]
  },
  {
   "cell_type": "markdown",
   "metadata": {},
   "source": []
  },
  {
   "cell_type": "markdown",
   "metadata": {},
   "source": [
    "This `DataFrame` contains 11,914 rows and 16 columns.\n",
    "\n",
    "The data types present include strings (recorded as `object`), 64-bit integers (`int64`), and 64-bit floating point values (`float64`)."
   ]
  },
  {
   "cell_type": "markdown",
   "metadata": {},
   "source": [
    "<hr style=\"border:2px solid black\"> </hr>\n",
    "\n",
    "### 1.1. Data Cleaning\n",
    "\n",
    "**[15 Marks]**"
   ]
  },
  {
   "cell_type": "markdown",
   "metadata": {},
   "source": [
    "---\n",
    "\n",
    "#### 1.1.1. Remove columns\n",
    "\n",
    "Drop the following columns from the `DataFrame`:\n",
    "- Engine Fuel Type\n",
    "- Market Category\n",
    "- Number of Doors\n",
    "- Vehicle Size\n",
    "\n",
    "Then, **display** the resulting `DataFrame` and **write a statement**, explaining why one might choose to exclude these features."
   ]
  },
  {
   "cell_type": "code",
   "execution_count": 6,
   "metadata": {},
   "outputs": [
    {
     "name": "stdout",
     "output_type": "stream",
     "text": [
      "              Engine Fuel Type                        Market Category  \\\n",
      "0  premium unleaded (required)  Factory Tuner,Luxury,High-Performance   \n",
      "1  premium unleaded (required)                     Luxury,Performance   \n",
      "2  premium unleaded (required)                Luxury,High-Performance   \n",
      "3  premium unleaded (required)                     Luxury,Performance   \n",
      "4  premium unleaded (required)                                 Luxury   \n",
      "\n",
      "   Number of Doors Vehicle Size  \n",
      "0              2.0      Compact  \n",
      "1              2.0      Compact  \n",
      "2              2.0      Compact  \n",
      "3              2.0      Compact  \n",
      "4              2.0      Compact  \n"
     ]
    }
   ],
   "source": [
    "import pandas as pd\n",
    "\n",
    "cardata_df = pd.read_csv('data/Task1/cardata.csv')\n",
    "columns_to_select = ['Engine Fuel Type', 'Market Category', 'Number of Doors', 'Vehicle Size']\n",
    "selected_columns_df = cardata_df[columns_to_select]\n",
    "print(selected_columns_df.head())"
   ]
  },
  {
   "cell_type": "markdown",
   "metadata": {},
   "source": [
    "one might choose to exlude one or more of these features because the engine fuel type or vehicle size may not be important predictors of the price and would not be important enough to look into for some people looking to purchase a vehicle, market category would not provide any extra information for the buyer and the information is already provided by other features of the car."
   ]
  },
  {
   "cell_type": "markdown",
   "metadata": {},
   "source": []
  },
  {
   "cell_type": "markdown",
   "metadata": {},
   "source": [
    "---\n",
    "\n",
    "#### 1.1.2. Rename columns\n",
    "\n",
    "Rename the following columns:\n",
    "\n",
    "Column |New name\n",
    "-|:----- \n",
    "Engine HP|HP\n",
    "Engine Cylinders|Cylinders\n",
    "Transmission Type|Transmission\n",
    "Driven_Wheels|Drive Mode\n",
    "highway MPG|MPG-H\n",
    "city mpg|MPG-C\n",
    "MSRP|Price\n",
    "\n",
    "Then, **display** the resulting `DataFrame` and **write a statement**, discussing why one might change the names in this way."
   ]
  },
  {
   "cell_type": "code",
   "execution_count": 7,
   "metadata": {
    "scrolled": false
   },
   "outputs": [
    {
     "name": "stdout",
     "output_type": "stream",
     "text": [
      "  Make       Model  Year             Engine Fuel Type     HP  Cylinders  \\\n",
      "0  BMW  1 Series M  2011  premium unleaded (required)  335.0        6.0   \n",
      "1  BMW    1 Series  2011  premium unleaded (required)  300.0        6.0   \n",
      "2  BMW    1 Series  2011  premium unleaded (required)  300.0        6.0   \n",
      "3  BMW    1 Series  2011  premium unleaded (required)  230.0        6.0   \n",
      "4  BMW    1 Series  2011  premium unleaded (required)  230.0        6.0   \n",
      "\n",
      "  Transmission        Drive Mode  Number of Doors  \\\n",
      "0       MANUAL  rear wheel drive              2.0   \n",
      "1       MANUAL  rear wheel drive              2.0   \n",
      "2       MANUAL  rear wheel drive              2.0   \n",
      "3       MANUAL  rear wheel drive              2.0   \n",
      "4       MANUAL  rear wheel drive              2.0   \n",
      "\n",
      "                         Market Category Vehicle Size Vehicle Style  MPG-H  \\\n",
      "0  Factory Tuner,Luxury,High-Performance      Compact         Coupe     26   \n",
      "1                     Luxury,Performance      Compact   Convertible     28   \n",
      "2                Luxury,High-Performance      Compact         Coupe     28   \n",
      "3                     Luxury,Performance      Compact         Coupe     28   \n",
      "4                                 Luxury      Compact   Convertible     28   \n",
      "\n",
      "   MPG-C  Popularity  Price  \n",
      "0     19        3916  46135  \n",
      "1     19        3916  40650  \n",
      "2     20        3916  36350  \n",
      "3     18        3916  29450  \n",
      "4     18        3916  34500  \n"
     ]
    }
   ],
   "source": [
    "import pandas as pd\n",
    "\n",
    "\n",
    "cardata_df = pd.read_csv('data/Task1/cardata.csv')\n",
    "new_column_names = {\n",
    "    'Engine HP': 'HP',\n",
    "    'Engine Cylinders': 'Cylinders',\n",
    "    'Transmission Type': 'Transmission',\n",
    "    'Driven_Wheels': 'Drive Mode',\n",
    "    'highway MPG': 'MPG-H',\n",
    "    'city mpg': 'MPG-C',\n",
    "    'MSRP': 'Price'}\n",
    "\n",
    "cardata_df = cardata_df.rename(columns=new_column_names)\n",
    "print(cardata_df.head())\n"
   ]
  },
  {
   "cell_type": "markdown",
   "metadata": {},
   "source": [
    "changing names This way may be advantageous since changing columns to shorter names makes the code more concise and simpler to read, and the columns have more clarity, making them easier to recognise and understand."
   ]
  },
  {
   "cell_type": "markdown",
   "metadata": {},
   "source": []
  },
  {
   "cell_type": "markdown",
   "metadata": {},
   "source": [
    "---\n",
    "\n",
    "#### 1.1.3. Remove duplicated rows\n",
    "\n",
    "\n",
    "\n",
    "Use an `f-string` to `print()` the number of irrelevant duplicate rows (count repeats only, not both originals and repeats).\n",
    "\n",
    "Drop the duplicated rows, retain the resulting `DataFrame`, and show the resulting number of rows in the new `DataFrame`."
   ]
  },
  {
   "cell_type": "code",
   "execution_count": 8,
   "metadata": {
    "scrolled": true
   },
   "outputs": [
    {
     "name": "stdout",
     "output_type": "stream",
     "text": [
      "Number of irrelevant duplicate rows: 715\n",
      "Number of rows in new DataFrame: 11914\n"
     ]
    }
   ],
   "source": [
    "import pandas as pd\n",
    "\n",
    "datacsv = pd.read_csv('data/Task1/cardata.csv')\n",
    "\n",
    "num_dup_rows = datacsv.duplicated().sum()\n",
    "print(f\"Number of irrelevant duplicate rows: {num_dup_rows}\")\n",
    "cardata_df.drop_duplicates(inplace=True)\n",
    "\n",
    "num_rows = datacsv.shape[0]\n",
    "print(f\"Number of rows in new DataFrame: {num_rows}\")"
   ]
  },
  {
   "cell_type": "markdown",
   "metadata": {},
   "source": [
    "---\n",
    "\n",
    "#### 1.1.4. Null values\n",
    "\n",
    "Report the number of null values remaining in each column."
   ]
  },
  {
   "cell_type": "code",
   "execution_count": 9,
   "metadata": {},
   "outputs": [
    {
     "name": "stdout",
     "output_type": "stream",
     "text": [
      "                   Number of null values\n",
      "Make                                   0\n",
      "Model                                  0\n",
      "Year                                   0\n",
      "Engine Fuel Type                       3\n",
      "Engine HP                             69\n",
      "Engine Cylinders                      30\n",
      "Transmission Type                      0\n",
      "Driven_Wheels                          0\n",
      "Number of Doors                        6\n",
      "Market Category                     3376\n",
      "Vehicle Size                           0\n",
      "Vehicle Style                          0\n",
      "highway MPG                            0\n",
      "city mpg                               0\n",
      "Popularity                             0\n",
      "MSRP                                   0\n"
     ]
    }
   ],
   "source": [
    "import pandas as pd\n",
    "\n",
    "datacsv = pd.read_csv('data/Task1/cardata.csv')\n",
    "datacsv.drop_duplicates(inplace=True)\n",
    "\n",
    "null_counts = pd.DataFrame(datacsv.isnull().sum(), columns=[\"Number of null values\"])\n",
    "print(null_counts)\n"
   ]
  },
  {
   "cell_type": "markdown",
   "metadata": {},
   "source": [
    "---\n",
    "#### 1.1.5. Handling missing values\n",
    "\n",
    "- For the `HP` column, replace missing values with the column mean.\n",
    "\n",
    "\n",
    "- Drop all other rows that still contain missing values.\n",
    "\n",
    "\n",
    "- Display the final number of rows in the dataframe."
   ]
  },
  {
   "cell_type": "code",
   "execution_count": 10,
   "metadata": {},
   "outputs": [
    {
     "name": "stdout",
     "output_type": "stream",
     "text": [
      "Final number of rows in DataFrame: 7787\n"
     ]
    }
   ],
   "source": [
    "import pandas as pd\n",
    "\n",
    "datacsv = pd.read_csv('data/Task1/cardata.csv')\n",
    "datacsv.drop_duplicates(inplace=True) # drops the duplicate rows and retain the resulting DataFrame\n",
    "\n",
    "hp_mean = datacsv['Engine HP'].mean()# replaces the missing values in the HP column with the column mean\n",
    "datacsv['Engine HP'].fillna(hp_mean, inplace=True)\n",
    "\n",
    "datacsv.dropna(inplace=True)# drops rows with missing values and retain the resulting DataFrame\n",
    "num_rows = datacsv.shape[0]# displays the final number of rows \n",
    "print(f\"Final number of rows in DataFrame: {num_rows}\")\n"
   ]
  },
  {
   "cell_type": "code",
   "execution_count": 11,
   "metadata": {},
   "outputs": [],
   "source": [
    "datacsv ['Engine HP'].fillna(datacsv['Engine HP'].mean(),inplace=True)"
   ]
  },
  {
   "cell_type": "code",
   "execution_count": 12,
   "metadata": {},
   "outputs": [],
   "source": [
    "datacsv.dropna(inplace=True)"
   ]
  },
  {
   "cell_type": "code",
   "execution_count": 13,
   "metadata": {},
   "outputs": [
    {
     "data": {
      "text/plain": [
       "7787"
      ]
     },
     "execution_count": 13,
     "metadata": {},
     "output_type": "execute_result"
    }
   ],
   "source": [
    "len(datacsv)"
   ]
  },
  {
   "cell_type": "markdown",
   "metadata": {},
   "source": [
    "Final number of rows in DataFrame: 7787"
   ]
  },
  {
   "cell_type": "markdown",
   "metadata": {},
   "source": [
    "---\n",
    "\n",
    "#### 1.1.6. Reasoning\n",
    "\n",
    "In the previous step, we eliminated entries with missing data from the dataset.  If this dataset were to be used to train a machine learning model to predict vehicle prices, what is a potential drawback of this approach?  Describe an alternative approach and any related caveats of which we should be aware.\n",
    "\n"
   ]
  },
  {
   "cell_type": "markdown",
   "metadata": {},
   "source": [
    " the dataset may be skewed or incomplete. If the missing data is not absent at random, implying that its presence or absence is connected to the outcome variable, then eliminating the missing data may result in a biassed estimation of the model parameters and the model's predictions.\n",
    " \n",
    "Instead of removing the rows totally, another option is to utilise imputation methods to fill in the missing data. Imputation methods can be used to fill in missing data based on observed patterns."
   ]
  },
  {
   "cell_type": "markdown",
   "metadata": {},
   "source": []
  },
  {
   "cell_type": "markdown",
   "metadata": {},
   "source": [
    "<hr style=\"border:2px solid black\"> </hr>\n",
    "\n",
    "### 1.2. Creating New Columns\n",
    "\n",
    "**[5 Marks]**"
   ]
  },
  {
   "cell_type": "markdown",
   "metadata": {},
   "source": [
    "---\n",
    "\n",
    "#### 1.2.1. Add `HP_Type`\n",
    "\n",
    "Using an implementation of **list comprehension**, create a new column, `HP_Type`, such that,\n",
    "- if a car's `HP` is greater than or equal to 300, `HP_Type` is 'high'.\n",
    "\n",
    "\n",
    "- Otherwise, `HP_Type` is 'low'. \n",
    "    \n",
    "Then, display the resulting `DataFrame`."
   ]
  },
  {
   "cell_type": "code",
   "execution_count": 14,
   "metadata": {},
   "outputs": [
    {
     "name": "stdout",
     "output_type": "stream",
     "text": [
      "          Make       Model  Year                Engine Fuel Type  Engine HP  \\\n",
      "0          BMW  1 Series M  2011     premium unleaded (required)      335.0   \n",
      "1          BMW    1 Series  2011     premium unleaded (required)      300.0   \n",
      "2          BMW    1 Series  2011     premium unleaded (required)      300.0   \n",
      "3          BMW    1 Series  2011     premium unleaded (required)      230.0   \n",
      "4          BMW    1 Series  2011     premium unleaded (required)      230.0   \n",
      "...        ...         ...   ...                             ...        ...   \n",
      "11909    Acura         ZDX  2012     premium unleaded (required)      300.0   \n",
      "11910    Acura         ZDX  2012     premium unleaded (required)      300.0   \n",
      "11911    Acura         ZDX  2012     premium unleaded (required)      300.0   \n",
      "11912    Acura         ZDX  2013  premium unleaded (recommended)      300.0   \n",
      "11913  Lincoln      Zephyr  2006                regular unleaded      221.0   \n",
      "\n",
      "       Engine Cylinders Transmission Type      Driven_Wheels  Number of Doors  \\\n",
      "0                   6.0            MANUAL   rear wheel drive              2.0   \n",
      "1                   6.0            MANUAL   rear wheel drive              2.0   \n",
      "2                   6.0            MANUAL   rear wheel drive              2.0   \n",
      "3                   6.0            MANUAL   rear wheel drive              2.0   \n",
      "4                   6.0            MANUAL   rear wheel drive              2.0   \n",
      "...                 ...               ...                ...              ...   \n",
      "11909               6.0         AUTOMATIC    all wheel drive              4.0   \n",
      "11910               6.0         AUTOMATIC    all wheel drive              4.0   \n",
      "11911               6.0         AUTOMATIC    all wheel drive              4.0   \n",
      "11912               6.0         AUTOMATIC    all wheel drive              4.0   \n",
      "11913               6.0         AUTOMATIC  front wheel drive              4.0   \n",
      "\n",
      "                             Market Category Vehicle Size  Vehicle Style  \\\n",
      "0      Factory Tuner,Luxury,High-Performance      Compact          Coupe   \n",
      "1                         Luxury,Performance      Compact    Convertible   \n",
      "2                    Luxury,High-Performance      Compact          Coupe   \n",
      "3                         Luxury,Performance      Compact          Coupe   \n",
      "4                                     Luxury      Compact    Convertible   \n",
      "...                                      ...          ...            ...   \n",
      "11909             Crossover,Hatchback,Luxury      Midsize  4dr Hatchback   \n",
      "11910             Crossover,Hatchback,Luxury      Midsize  4dr Hatchback   \n",
      "11911             Crossover,Hatchback,Luxury      Midsize  4dr Hatchback   \n",
      "11912             Crossover,Hatchback,Luxury      Midsize  4dr Hatchback   \n",
      "11913                                 Luxury      Midsize          Sedan   \n",
      "\n",
      "       highway MPG  city mpg  Popularity   MSRP HP_Type  \n",
      "0               26        19        3916  46135    high  \n",
      "1               28        19        3916  40650    high  \n",
      "2               28        20        3916  36350    high  \n",
      "3               28        18        3916  29450     low  \n",
      "4               28        18        3916  34500     low  \n",
      "...            ...       ...         ...    ...     ...  \n",
      "11909           23        16         204  46120    high  \n",
      "11910           23        16         204  56670    high  \n",
      "11911           23        16         204  50620    high  \n",
      "11912           23        16         204  50920    high  \n",
      "11913           26        17          61  28995     low  \n",
      "\n",
      "[11199 rows x 17 columns]\n"
     ]
    }
   ],
   "source": [
    "import pandas as pd\n",
    "\n",
    "\n",
    "datacsv = pd.read_csv('data/Task1/cardata.csv')\n",
    "datacsv.drop_duplicates(inplace=True)# Drops the duplicate rows\n",
    "datacsv['HP_Type'] = ['high' if hp >= 300 else 'low' for hp in datacsv['Engine HP']]# creates a new column 'HP_Type'\n",
    "\n",
    "print(datacsv)# displays the resulting DataFrame\n"
   ]
  },
  {
   "cell_type": "markdown",
   "metadata": {},
   "source": [
    "---\n",
    "\n",
    "#### 1.2.2.  Add `Price_class`\n",
    "\n",
    "Using an implementation of a **function**, create a new column, `Price_class`, such that it becomes equal to:\n",
    "- 'high', if `Price` is greater than or equal to 50,000\n",
    "- 'mid', if `Price` is between 30,000 (inclusive) and 50,000 (exclusive), and\n",
    "- 'low', if `Price` is below 30,000.\n",
    "    \n",
    "Then, display the resulting `DataFrame`."
   ]
  },
  {
   "cell_type": "code",
   "execution_count": 17,
   "metadata": {},
   "outputs": [
    {
     "name": "stdout",
     "output_type": "stream",
     "text": [
      "          Make       Model  Year                Engine Fuel Type  Engine HP  \\\n",
      "0          BMW  1 Series M  2011     premium unleaded (required)      335.0   \n",
      "1          BMW    1 Series  2011     premium unleaded (required)      300.0   \n",
      "2          BMW    1 Series  2011     premium unleaded (required)      300.0   \n",
      "3          BMW    1 Series  2011     premium unleaded (required)      230.0   \n",
      "4          BMW    1 Series  2011     premium unleaded (required)      230.0   \n",
      "...        ...         ...   ...                             ...        ...   \n",
      "11909    Acura         ZDX  2012     premium unleaded (required)      300.0   \n",
      "11910    Acura         ZDX  2012     premium unleaded (required)      300.0   \n",
      "11911    Acura         ZDX  2012     premium unleaded (required)      300.0   \n",
      "11912    Acura         ZDX  2013  premium unleaded (recommended)      300.0   \n",
      "11913  Lincoln      Zephyr  2006                regular unleaded      221.0   \n",
      "\n",
      "       Engine Cylinders Transmission Type      Driven_Wheels  Number of Doors  \\\n",
      "0                   6.0            MANUAL   rear wheel drive              2.0   \n",
      "1                   6.0            MANUAL   rear wheel drive              2.0   \n",
      "2                   6.0            MANUAL   rear wheel drive              2.0   \n",
      "3                   6.0            MANUAL   rear wheel drive              2.0   \n",
      "4                   6.0            MANUAL   rear wheel drive              2.0   \n",
      "...                 ...               ...                ...              ...   \n",
      "11909               6.0         AUTOMATIC    all wheel drive              4.0   \n",
      "11910               6.0         AUTOMATIC    all wheel drive              4.0   \n",
      "11911               6.0         AUTOMATIC    all wheel drive              4.0   \n",
      "11912               6.0         AUTOMATIC    all wheel drive              4.0   \n",
      "11913               6.0         AUTOMATIC  front wheel drive              4.0   \n",
      "\n",
      "                             Market Category Vehicle Size  Vehicle Style  \\\n",
      "0      Factory Tuner,Luxury,High-Performance      Compact          Coupe   \n",
      "1                         Luxury,Performance      Compact    Convertible   \n",
      "2                    Luxury,High-Performance      Compact          Coupe   \n",
      "3                         Luxury,Performance      Compact          Coupe   \n",
      "4                                     Luxury      Compact    Convertible   \n",
      "...                                      ...          ...            ...   \n",
      "11909             Crossover,Hatchback,Luxury      Midsize  4dr Hatchback   \n",
      "11910             Crossover,Hatchback,Luxury      Midsize  4dr Hatchback   \n",
      "11911             Crossover,Hatchback,Luxury      Midsize  4dr Hatchback   \n",
      "11912             Crossover,Hatchback,Luxury      Midsize  4dr Hatchback   \n",
      "11913                                 Luxury      Midsize          Sedan   \n",
      "\n",
      "       highway MPG  city mpg  Popularity   MSRP Price_class  \n",
      "0               26        19        3916  46135         mid  \n",
      "1               28        19        3916  40650         mid  \n",
      "2               28        20        3916  36350         mid  \n",
      "3               28        18        3916  29450         low  \n",
      "4               28        18        3916  34500         mid  \n",
      "...            ...       ...         ...    ...         ...  \n",
      "11909           23        16         204  46120         mid  \n",
      "11910           23        16         204  56670        high  \n",
      "11911           23        16         204  50620        high  \n",
      "11912           23        16         204  50920        high  \n",
      "11913           26        17          61  28995         low  \n",
      "\n",
      "[11199 rows x 17 columns]\n"
     ]
    }
   ],
   "source": [
    "import pandas as pd\n",
    "import numpy as np\n",
    "\n",
    "datacsv = pd.read_csv('data/Task1/cardata.csv')\n",
    "\n",
    "# Drops the duplicate rows \n",
    "datacsv.drop_duplicates(inplace=True)\n",
    "\n",
    "# Defines the conditions and corresponding values to use for the new column\n",
    "conditions = [\n",
    "    (datacsv['MSRP'] >= 50000),\n",
    "    (datacsv['MSRP'] >= 30000),\n",
    "    (datacsv['MSRP'] < 30000)\n",
    "]\n",
    "values = ['high', 'mid', 'low'] #gives values to MSRP prices\n",
    "\n",
    "# Create the new column \n",
    "datacsv['Price_class'] = np.select(conditions, values)\n",
    "\n",
    "# Display the results\n",
    "print(datacsv)\n"
   ]
  },
  {
   "cell_type": "markdown",
   "metadata": {},
   "source": [
    "---\n",
    "\n",
    "#### 1.2.3 Save modified data\n",
    "\n",
    "Save the modified `DataFrame` to a new comma-separated file called `cardata_modified.csv` to be stored under the `data/Task1/` directory.\n",
    "\n",
    "**Do not** include the row indices in the file."
   ]
  },
  {
   "cell_type": "code",
   "execution_count": 18,
   "metadata": {},
   "outputs": [],
   "source": [
    "import pandas as pd\n",
    "\n",
    "datacsv = pd.read_csv('data/Task1/cardata.csv')\n",
    "\n",
    "# Drop the duplicate rows and retain the resulting DataFrame\n",
    "datacsv.drop_duplicates(inplace=True)\n",
    "\n",
    "# Create a new column 'Price_class'\n",
    "datacsv['Price_class'] = ['high' if price >= 50000 else 'mid' if price >= 30000 else 'low' for price in datacsv['MSRP']]\n",
    "\n",
    "# Save the modified DataFrame to a new file\n",
    "datacsv.to_csv('data/Task1/cardata_modified.csv', index=False)\n"
   ]
  },
  {
   "cell_type": "markdown",
   "metadata": {},
   "source": [
    "<hr style=\"border:2px solid black\"> </hr>\n",
    "\n",
    "### 1.3. Exploratory Data Analysis\n",
    "\n",
    "**[20 Marks]**"
   ]
  },
  {
   "cell_type": "markdown",
   "metadata": {},
   "source": [
    "---\n",
    "\n",
    "#### 1.3.1. Mean price\n",
    "\n",
    "Find the mean `Price` of all vehicles.  Report the solution rounded to 2 decimal places."
   ]
  },
  {
   "cell_type": "code",
   "execution_count": null,
   "metadata": {},
   "outputs": [],
   "source": [
    "import pandas as pd\n",
    "\n",
    "\n",
    "datacsv = pd.read_csv('data/Task1/cardata.csv')\n",
    "datacsv.drop_duplicates(inplace=True)\n",
    "\n",
    "# the mean Price and round to 2 decimal places\n",
    "mean_price = round(datacsv['MSRP'].mean(), 2)\n",
    "\n",
    "# Display the result\n",
    "print(f\"Mean Price of all vehicles: {mean_price}\")\n"
   ]
  },
  {
   "cell_type": "markdown",
   "metadata": {},
   "source": [
    "---\n",
    "\n",
    "#### 1.3.2. Count cars by year\n",
    "\n",
    "Report the number of cars in each `Year`."
   ]
  },
  {
   "cell_type": "code",
   "execution_count": 19,
   "metadata": {},
   "outputs": [
    {
     "name": "stdout",
     "output_type": "stream",
     "text": [
      "2016    2073\n",
      "2015    2065\n",
      "2017    1625\n",
      "2014     554\n",
      "2009     364\n",
      "2012     351\n",
      "2007     334\n",
      "2013     325\n",
      "2008     322\n",
      "2011     284\n",
      "2010     281\n",
      "2003     238\n",
      "2004     235\n",
      "2005     213\n",
      "2002     205\n",
      "2006     194\n",
      "2001     168\n",
      "1997     166\n",
      "1993     160\n",
      "1998     145\n",
      "1994     129\n",
      "1992     127\n",
      "1995     117\n",
      "2000     115\n",
      "1996     115\n",
      "1999     114\n",
      "1991     103\n",
      "1990      77\n",
      "Name: Year, dtype: int64\n"
     ]
    }
   ],
   "source": [
    "import pandas as pd\n",
    "\n",
    "# Count the number of cars in each year using value_counts()\n",
    "car_counts = datacsv['Year'].value_counts()\n",
    "\n",
    "# Display the resulting counts\n",
    "print(car_counts)"
   ]
  },
  {
   "cell_type": "markdown",
   "metadata": {},
   "source": [
    "---\n",
    "\n",
    "#### 1.3.3. Unique Makes\n",
    "\n",
    "Report a list of unique values of `Make`, sorted in ascending alphabetical order."
   ]
  },
  {
   "cell_type": "code",
   "execution_count": 20,
   "metadata": {
    "scrolled": true
   },
   "outputs": [
    {
     "name": "stdout",
     "output_type": "stream",
     "text": [
      "['Acura', 'Alfa Romeo', 'Aston Martin', 'Audi', 'BMW', 'Bentley', 'Bugatti', 'Buick', 'Cadillac', 'Chevrolet', 'Chrysler', 'Dodge', 'FIAT', 'Ferrari', 'Ford', 'GMC', 'Genesis', 'HUMMER', 'Honda', 'Hyundai', 'Infiniti', 'Kia', 'Lamborghini', 'Land Rover', 'Lexus', 'Lincoln', 'Lotus', 'Maserati', 'Maybach', 'Mazda', 'McLaren', 'Mercedes-Benz', 'Mitsubishi', 'Nissan', 'Oldsmobile', 'Plymouth', 'Pontiac', 'Porsche', 'Rolls-Royce', 'Saab', 'Scion', 'Spyker', 'Subaru', 'Suzuki', 'Tesla', 'Toyota', 'Volkswagen', 'Volvo']\n"
     ]
    }
   ],
   "source": [
    "import pandas as pd\n",
    "\n",
    "# Get a list of unique Make values and sort in ascending order\n",
    "unique_makes = sorted(datacsv['Make'].unique())\n",
    "\n",
    "# Display the resulting list\n",
    "print(unique_makes)"
   ]
  },
  {
   "cell_type": "markdown",
   "metadata": {},
   "source": [
    "---\n",
    "\n",
    "#### 1.3.4. Fuel efficiency\n",
    "\n",
    "Report the number of unique vehicle makers.\n",
    "\n",
    "Display the mean `MPG-H` and mean `MPG-C` for each `Model` of  each `Make` in a `MultiIndex` `DataFrame`. Report the values rounded to 2 decimal places.\n",
    "\n",
    "Verify that the expected number of vehicle makers are represented in the resulting `DataFrame`."
   ]
  },
  {
   "cell_type": "code",
   "execution_count": 21,
   "metadata": {},
   "outputs": [
    {
     "name": "stdout",
     "output_type": "stream",
     "text": [
      "Number of unique vehicle makers: 48\n",
      "                  highway MPG  city mpg\n",
      "Make  Model                            \n",
      "Acura CL                26.78     17.00\n",
      "      ILX               35.12     24.62\n",
      "      ILX Hybrid        38.00     39.00\n",
      "      Integra           28.17     21.83\n",
      "      Legend            23.19     16.00\n",
      "...                       ...       ...\n",
      "Volvo V90               23.00     16.00\n",
      "      XC                23.00     17.00\n",
      "      XC60              27.22     19.93\n",
      "      XC70              27.50     20.17\n",
      "      XC90              25.29     20.47\n",
      "\n",
      "[928 rows x 2 columns]\n",
      "All vehicle makers are represented in the resulting DataFrame.\n"
     ]
    }
   ],
   "source": [
    "import pandas as pd\n",
    "\n",
    "# Load the CSV file into a DataFrame\n",
    "datacsv = pd.read_csv('data/Task1/cardata.csv')\n",
    "\n",
    "# count the number of unique vehicle makers\n",
    "num_makers = len(datacsv['Make'].unique())\n",
    "\n",
    "# compute the mean MPG-H and mean MPG-C for each model of each make\n",
    "# the values are rounded to 2 decimal places\n",
    "grouped = datacsv.groupby(['Make', 'Model'])[['highway MPG', 'city mpg']].mean().round(2)\n",
    "# in the cardata-modified.csv the MPG-H and MPG-C are labelled as highway MPG and city mpg\n",
    "\n",
    "# Display the resulting DataFrame\n",
    "print(f\"Number of unique vehicle makers: {num_makers}\")\n",
    "print(grouped)\n",
    "\n",
    "# Verify that the expected number of vehicle makers are represented in the resulting DataFrame\n",
    "if len(datacsv['Make'].unique()) == len(grouped.index.get_level_values(0).unique()):\n",
    "# It then compares the lengths of these two lists using an if statement\n",
    "    print(\"All vehicle makers are represented in the resulting DataFrame.\")\n",
    "else:\n",
    "    print(\"Some vehicle makers are missing from the resulting DataFrame.\")\n",
    "\n"
   ]
  },
  {
   "cell_type": "markdown",
   "metadata": {},
   "source": [
    "---\n",
    "\n",
    "#### 1.3.5. Cross-tabulation\n",
    "\n",
    "Display in a single `DataFrame` the number of car entries for each `Drive Mode` and `Transmission` combination, with a `Total` column (showing the sum of the rows) and a `Total` row (showing the sum of the columns) in the `margins`. \n",
    "\n"
   ]
  },
  {
   "cell_type": "code",
   "execution_count": 22,
   "metadata": {},
   "outputs": [
    {
     "name": "stdout",
     "output_type": "stream",
     "text": [
      "                                     Count  Total\n",
      "Driven_Wheels     Transmission Type              \n",
      "all wheel drive   AUTOMATED_MANUAL     198  11914\n",
      "                  AUTOMATIC           1940  11914\n",
      "                  DIRECT_DRIVE          11  11914\n",
      "                  MANUAL               204  11914\n",
      "four wheel drive  AUTOMATIC           1056  11914\n",
      "                  MANUAL               345  11914\n",
      "                  UNKNOWN                2  11914\n",
      "front wheel drive AUTOMATED_MANUAL     304  11914\n",
      "                  AUTOMATIC           3056  11914\n",
      "                  DIRECT_DRIVE          43  11914\n",
      "                  MANUAL              1380  11914\n",
      "                  UNKNOWN                4  11914\n",
      "rear wheel drive  AUTOMATED_MANUAL     124  11914\n",
      "                  AUTOMATIC           2214  11914\n",
      "                  DIRECT_DRIVE          14  11914\n",
      "                  MANUAL              1006  11914\n",
      "                  UNKNOWN               13  11914\n"
     ]
    }
   ],
   "source": [
    "import pandas as pd\n",
    "\n",
    "# Load the CSV file into a DataFrame, group by Drive Mode and Transmission, and add Total column\n",
    "grouped = pd.read_csv('data/Task1/cardata.csv').groupby(['Driven_Wheels', 'Transmission Type']).size().reset_index(name='Count').assign(Total=lambda x: x['Count'].sum())\n",
    "\n",
    "# Set the index to a MultiIndex of Drive Mode and Transmission\n",
    "grouped.set_index(['Driven_Wheels', 'Transmission Type'], inplace=True)\n",
    "\n",
    "# Display the resulting DataFrame\n",
    "print(grouped)\n",
    "\n",
    "\n"
   ]
  },
  {
   "cell_type": "markdown",
   "metadata": {},
   "source": [
    "---\n",
    "\n",
    "#### 1.3.6. Isolating specific features\n",
    "\n",
    "Display data corresponding to the `Year` 2017 for Porsche's Macan model."
   ]
  },
  {
   "cell_type": "code",
   "execution_count": 23,
   "metadata": {},
   "outputs": [
    {
     "name": "stdout",
     "output_type": "stream",
     "text": [
      "         Make  Model  Year             Engine Fuel Type  Engine HP  \\\n",
      "6630  Porsche  Macan  2017  premium unleaded (required)      360.0   \n",
      "6631  Porsche  Macan  2017  premium unleaded (required)      340.0   \n",
      "6632  Porsche  Macan  2017  premium unleaded (required)      400.0   \n",
      "6633  Porsche  Macan  2017  premium unleaded (required)      252.0   \n",
      "\n",
      "      Engine Cylinders Transmission Type    Driven_Wheels  Number of Doors  \\\n",
      "6630               6.0  AUTOMATED_MANUAL  all wheel drive              4.0   \n",
      "6631               6.0  AUTOMATED_MANUAL  all wheel drive              4.0   \n",
      "6632               6.0  AUTOMATED_MANUAL  all wheel drive              4.0   \n",
      "6633               4.0  AUTOMATED_MANUAL  all wheel drive              4.0   \n",
      "\n",
      "                        Market Category Vehicle Size Vehicle Style  \\\n",
      "6630  Crossover,Luxury,High-Performance      Midsize       4dr SUV   \n",
      "6631       Crossover,Luxury,Performance      Midsize       4dr SUV   \n",
      "6632       Crossover,Luxury,Performance      Midsize       4dr SUV   \n",
      "6633                   Crossover,Luxury      Midsize       4dr SUV   \n",
      "\n",
      "      highway MPG  city mpg  Popularity   MSRP  \n",
      "6630           23        17        1715  67200  \n",
      "6631           23        17        1715  54400  \n",
      "6632           23        17        1715  76000  \n",
      "6633           25        20        1715  47500  \n"
     ]
    }
   ],
   "source": [
    "import pandas as pd\n",
    "\n",
    "# Filter the DataFrame by Year and Model\n",
    "filtered = datacsv[(datacsv['Year'] == 2017) \n",
    "& (datacsv['Model'] == 'Macan') & (datacsv['Make'] == 'Porsche')]\n",
    "\n",
    "# Display the resulting DataFrame\n",
    "print(filtered)\n"
   ]
  },
  {
   "cell_type": "markdown",
   "metadata": {},
   "source": [
    "---\n",
    "\n",
    "#### 1.3.7. Isolating specific features\n",
    "\n",
    "Display data corresponding to the `Year` 2015 for makers FIAT and Scion."
   ]
  },
  {
   "cell_type": "code",
   "execution_count": 24,
   "metadata": {},
   "outputs": [
    {
     "name": "stdout",
     "output_type": "stream",
     "text": [
      "        Make Model  Year                Engine Fuel Type  Engine HP  \\\n",
      "539     FIAT  500e  2015                        electric        NaN   \n",
      "542     FIAT   500  2015  premium unleaded (recommended)      160.0   \n",
      "543     FIAT   500  2015  premium unleaded (recommended)      101.0   \n",
      "544     FIAT   500  2015  premium unleaded (recommended)      135.0   \n",
      "545     FIAT   500  2015  premium unleaded (recommended)      101.0   \n",
      "546     FIAT   500  2015  premium unleaded (recommended)      101.0   \n",
      "547     FIAT   500  2015  premium unleaded (recommended)      160.0   \n",
      "548     FIAT   500  2015  premium unleaded (recommended)      101.0   \n",
      "549     FIAT   500  2015  premium unleaded (recommended)      101.0   \n",
      "550     FIAT   500  2015  premium unleaded (recommended)      101.0   \n",
      "551     FIAT   500  2015  premium unleaded (recommended)      101.0   \n",
      "552     FIAT   500  2015  premium unleaded (recommended)      101.0   \n",
      "570     FIAT  500L  2015  premium unleaded (recommended)      160.0   \n",
      "571     FIAT  500L  2015  premium unleaded (recommended)      160.0   \n",
      "572     FIAT  500L  2015  premium unleaded (recommended)      160.0   \n",
      "573     FIAT  500L  2015  premium unleaded (recommended)      160.0   \n",
      "574     FIAT  500L  2015  premium unleaded (recommended)      160.0   \n",
      "4897   Scion  FR-S  2015     premium unleaded (required)      200.0   \n",
      "4898   Scion  FR-S  2015     premium unleaded (required)      200.0   \n",
      "4899   Scion  FR-S  2015     premium unleaded (required)      200.0   \n",
      "4900   Scion  FR-S  2015     premium unleaded (required)      200.0   \n",
      "5962   Scion    iQ  2015                regular unleaded       94.0   \n",
      "10311  Scion    tC  2015                regular unleaded      179.0   \n",
      "10312  Scion    tC  2015                regular unleaded      179.0   \n",
      "10313  Scion    tC  2015                regular unleaded      179.0   \n",
      "10314  Scion    tC  2015                regular unleaded      179.0   \n",
      "11548  Scion    xB  2015                regular unleaded      158.0   \n",
      "11549  Scion    xB  2015                regular unleaded      158.0   \n",
      "11550  Scion    xB  2015                regular unleaded      158.0   \n",
      "\n",
      "       Engine Cylinders Transmission Type      Driven_Wheels  Number of Doors  \\\n",
      "539                 0.0      DIRECT_DRIVE  front wheel drive              2.0   \n",
      "542                 4.0            MANUAL  front wheel drive              2.0   \n",
      "543                 4.0            MANUAL  front wheel drive              2.0   \n",
      "544                 4.0            MANUAL  front wheel drive              2.0   \n",
      "545                 4.0            MANUAL  front wheel drive              2.0   \n",
      "546                 4.0            MANUAL  front wheel drive              2.0   \n",
      "547                 4.0            MANUAL  front wheel drive              2.0   \n",
      "548                 4.0            MANUAL  front wheel drive              2.0   \n",
      "549                 4.0            MANUAL  front wheel drive              2.0   \n",
      "550                 4.0            MANUAL  front wheel drive              2.0   \n",
      "551                 4.0            MANUAL  front wheel drive              2.0   \n",
      "552                 4.0            MANUAL  front wheel drive              2.0   \n",
      "570                 4.0            MANUAL  front wheel drive              4.0   \n",
      "571                 4.0            MANUAL  front wheel drive              4.0   \n",
      "572                 4.0         AUTOMATIC  front wheel drive              4.0   \n",
      "573                 4.0            MANUAL  front wheel drive              4.0   \n",
      "574                 4.0            MANUAL  front wheel drive              4.0   \n",
      "4897                4.0         AUTOMATIC   rear wheel drive              2.0   \n",
      "4898                4.0         AUTOMATIC   rear wheel drive              2.0   \n",
      "4899                4.0            MANUAL   rear wheel drive              2.0   \n",
      "4900                4.0            MANUAL   rear wheel drive              2.0   \n",
      "5962                4.0         AUTOMATIC  front wheel drive              2.0   \n",
      "10311               4.0            MANUAL  front wheel drive              2.0   \n",
      "10312               4.0         AUTOMATIC  front wheel drive              2.0   \n",
      "10313               4.0         AUTOMATIC  front wheel drive              2.0   \n",
      "10314               4.0            MANUAL  front wheel drive              2.0   \n",
      "11548               4.0         AUTOMATIC  front wheel drive              4.0   \n",
      "11549               4.0         AUTOMATIC  front wheel drive              4.0   \n",
      "11550               4.0            MANUAL  front wheel drive              4.0   \n",
      "\n",
      "                           Market Category Vehicle Size  Vehicle Style  \\\n",
      "539                              Hatchback      Compact  2dr Hatchback   \n",
      "542              Factory Tuner,Performance      Compact    Convertible   \n",
      "543                              Hatchback      Compact  2dr Hatchback   \n",
      "544                              Hatchback      Compact  2dr Hatchback   \n",
      "545                                    NaN      Compact    Convertible   \n",
      "546                                    NaN      Compact    Convertible   \n",
      "547    Hatchback,Factory Tuner,Performance      Compact  2dr Hatchback   \n",
      "548                              Hatchback      Compact  2dr Hatchback   \n",
      "549                                    NaN      Compact    Convertible   \n",
      "550                              Hatchback      Compact  2dr Hatchback   \n",
      "551                              Hatchback      Compact  2dr Hatchback   \n",
      "552                              Hatchback      Compact  2dr Hatchback   \n",
      "570                                    NaN      Compact          Wagon   \n",
      "571                                    NaN      Compact          Wagon   \n",
      "572                                    NaN      Compact          Wagon   \n",
      "573                                    NaN      Compact          Wagon   \n",
      "574                                    NaN      Compact          Wagon   \n",
      "4897                           Performance      Compact          Coupe   \n",
      "4898                           Performance      Compact          Coupe   \n",
      "4899                           Performance      Compact          Coupe   \n",
      "4900                           Performance      Compact          Coupe   \n",
      "5962                             Hatchback      Compact  2dr Hatchback   \n",
      "10311                            Hatchback      Compact  2dr Hatchback   \n",
      "10312                            Hatchback      Compact  2dr Hatchback   \n",
      "10313                            Hatchback      Compact  2dr Hatchback   \n",
      "10314                            Hatchback      Compact  2dr Hatchback   \n",
      "11548                                  NaN      Compact          Wagon   \n",
      "11549                                  NaN      Compact          Wagon   \n",
      "11550                                  NaN      Compact          Wagon   \n",
      "\n",
      "       highway MPG  city mpg  Popularity   MSRP  \n",
      "539            108       122         819  31800  \n",
      "542             34        28         819  26595  \n",
      "543             40        31         819  18700  \n",
      "544             34        28         819  19700  \n",
      "545             34        28         819  22800  \n",
      "546             34        28         819  24700  \n",
      "547             34        28         819  22495  \n",
      "548             40        31         819  17495  \n",
      "549             34        28         819  20345  \n",
      "550             40        31         819  17700  \n",
      "551             40        31         819  20400  \n",
      "552             40        31         819  16845  \n",
      "570             33        25         819  19345  \n",
      "571             33        25         819  23095  \n",
      "572             30        22         819  24695  \n",
      "573             33        25         819  21695  \n",
      "574             33        25         819  20695  \n",
      "4897            34        25         105  31090  \n",
      "4898            34        25         105  26000  \n",
      "4899            30        22         105  24900  \n",
      "4900            30        22         105  29990  \n",
      "5962            37        36         105  15665  \n",
      "10311           31        23         105  19210  \n",
      "10312           31        23         105  20360  \n",
      "10313           31        23         105  24340  \n",
      "10314           31        23         105  23190  \n",
      "11548           28        22         105  18070  \n",
      "11549           28        22         105  19685  \n",
      "11550           28        22         105  17120  \n"
     ]
    }
   ],
   "source": [
    "import pandas as pd\n",
    "\n",
    "# Filter the DataFrame by Year and Make\n",
    "filtered = datacsv[(datacsv['Year'] == 2015) & ((datacsv['Make'] == 'FIAT') | (datacsv['Make'] == 'Scion'))]\n",
    "\n",
    "# Display the resulting DataFrame\n",
    "print(filtered)\n"
   ]
  },
  {
   "cell_type": "markdown",
   "metadata": {},
   "source": [
    "---\n",
    "\n",
    "#### 1.3.8. Counting specific features \n",
    "\n",
    "For BMWs with `Price` greater than 30,000, report the number of cars for each `Transmission` category."
   ]
  },
  {
   "cell_type": "code",
   "execution_count": 25,
   "metadata": {},
   "outputs": [
    {
     "name": "stdout",
     "output_type": "stream",
     "text": [
      "  Transmission Type  Count\n",
      "0  AUTOMATED_MANUAL     18\n",
      "1         AUTOMATIC    249\n",
      "2      DIRECT_DRIVE      4\n",
      "3            MANUAL     52\n"
     ]
    }
   ],
   "source": [
    "import pandas as pd\n",
    "\n",
    "# Filter the DataFrame to include only BMWs with a Price greater than 30,000\n",
    "bmws = datacsv[(datacsv['Make'] == 'BMW') & (datacsv['MSRP'] > 30000)]\n",
    " # Used MSRP value as there is not a Price column \n",
    "    \n",
    "# Group the resulting DataFrame by Transmission and count the number of cars in each group\n",
    "transmission_counts = bmws.groupby('Transmission Type').size().reset_index(name='Count')\n",
    "\n",
    "# Display the resulting DataFrame\n",
    "print(transmission_counts)\n"
   ]
  },
  {
   "cell_type": "markdown",
   "metadata": {},
   "source": [
    "---\n",
    "\n",
    "#### 1.3.9. Grouping data\n",
    "\n",
    "For 2017 data, show the minimum and maximum `Price`, as well as minimum and maximum `HP` for each `Make`.\n",
    "\n",
    "Display the values as **integers**."
   ]
  },
  {
   "cell_type": "code",
   "execution_count": 26,
   "metadata": {},
   "outputs": [
    {
     "name": "stdout",
     "output_type": "stream",
     "text": [
      "                MSRP         Engine HP     \n",
      "                 min     max       min  max\n",
      "Make                                       \n",
      "Acura          27990  156000       201  573\n",
      "Audi           31200  189900       186  610\n",
      "BMW            33100  137000       170  600\n",
      "Buick          21065   49625       138  310\n",
      "Cadillac       34595   97795       265  640\n",
      "Chevrolet      13000   92395        98  650\n",
      "Chrysler       21995   45270       184  300\n",
      "Dodge          20995  118795       173  707\n",
      "FIAT           15990   31800       101  180\n",
      "Ford           14130   68996       120  526\n",
      "GMC            24070   71665       182  420\n",
      "Genesis        41400   54550       311  420\n",
      "Honda          15990   47070       130  280\n",
      "Hyundai        17150   41150       128  293\n",
      "Infiniti       33950   53300       208  400\n",
      "Kia            14165   45700       138  290\n",
      "Land Rover     37695   62500       240  240\n",
      "Lexus          31250   89380       134  467\n",
      "Lincoln        32720   76645       240  380\n",
      "Lotus          91900   91900       400  400\n",
      "Maserati       71600  145500       345  523\n",
      "Mazda          17845   30695       146  184\n",
      "Mercedes-Benz  32400  247900       177  621\n",
      "Mitsubishi     12995   31695        66  224\n",
      "Nissan         11990  109990       109  565\n",
      "Porsche        47500  200400       252  580\n",
      "Subaru         18395   39995       148  305\n",
      "Toyota         15250   84325       106  381\n",
      "Volkswagen     17895   60195       150  292\n",
      "Volvo          33950   57200       240  316\n"
     ]
    }
   ],
   "source": [
    "import pandas as pd\n",
    "\n",
    "# Load the CSV file into a DataFrame\n",
    "datacsv = pd.read_csv('data/Task1/cardata.csv')\n",
    "\n",
    "# Filter the DataFrame to include only 2017 data\n",
    "data_2017 = datacsv[datacsv['Year'] == 2017]\n",
    "\n",
    "# Group the resulting DataFrame by Make and calculate the minimum and maximum Price and HP for each group\n",
    "grouped = data_2017.groupby('Make').agg({'MSRP': ['min', 'max'], 'Engine HP': ['min', 'max']}).astype(int)\n",
    "\n",
    "# Display the resulting DataFrame\n",
    "print(grouped)\n"
   ]
  },
  {
   "cell_type": "markdown",
   "metadata": {},
   "source": [
    "---\n",
    "\n",
    "#### 1.3.10. Reporting extreme values\n",
    "\n",
    "Determine which `Make` has the highest mean `Price`.  Display this `Make` and its corresponding mean `Price` (rounded to 2 decimal places)."
   ]
  },
  {
   "cell_type": "code",
   "execution_count": 27,
   "metadata": {},
   "outputs": [
    {
     "name": "stdout",
     "output_type": "stream",
     "text": [
      "The Make with the highest mean Price is Bugatti with a mean Price of 1757223.67.\n"
     ]
    }
   ],
   "source": [
    "import pandas as pd\n",
    "\n",
    "# Load the CSV file into a DataFrame\n",
    "datacsv = pd.read_csv('data/Task1/cardata_modified.csv')\n",
    "\n",
    "# Group the DataFrame by Make and calculate the mean Price for each group\n",
    "grouped = datacsv.groupby('Make').agg({'MSRP': 'mean'})\n",
    "\n",
    "# Find the Make with the highest mean Price and display it along with its corresponding mean Price\n",
    "max_make = grouped['MSRP'].idxmax()\n",
    "max_price = grouped.loc[max_make, 'MSRP']\n",
    "print(f\"The Make with the highest mean Price is {max_make} with a mean Price of {max_price:.2f}.\")\n"
   ]
  },
  {
   "cell_type": "markdown",
   "metadata": {},
   "source": [
    "---\n",
    "\n",
    "#### 1.3.11. Visualising data\n",
    "\n",
    "Use Seaborn to create an enhanced boxplot comparing the `Price` distribution as a function of `Year`.  \n",
    "\n",
    "- For this visualisation, only consider **years after 2000** and cars with **prices below $100,000**.\n",
    "\n",
    "\n",
    "- The figure should have a **height of 5 inches** and a **width of 10 inches**.\n",
    "\n",
    "\n",
    "- Add a **title** as \"Enhanced Boxplot\".\n",
    "\n",
    "\n",
    "- **Save** the figure to a file called `enhanced_boxplot.png`.\n"
   ]
  },
  {
   "cell_type": "code",
   "execution_count": 28,
   "metadata": {},
   "outputs": [
    {
     "data": {
      "image/png": "[encoded data removed]",
      "text/plain": [
       "<Figure size 720x360 with 1 Axes>"
      ]
     },
     "metadata": {
      "needs_background": "light"
     },
     "output_type": "display_data"
    }
   ],
   "source": [
    "import pandas as pd\n",
    "import seaborn as sns\n",
    "import matplotlib.pyplot as plt\n",
    "\n",
    "# Load the CSV file into a DataFrame\n",
    "datacsv = pd.read_csv('data/Task1/cardata_modified.csv')\n",
    "\n",
    "# Filter the DataFrame to include only years after 2000 and cars with prices below $100,000\n",
    "filtered_data = datacsv[(datacsv['Year'] > 2000) & (datacsv['MSRP'] < 100000)]\n",
    "\n",
    "# Create the enhanced boxplot using Seaborn\n",
    "plt.figure(figsize=(10, 5))\n",
    "sns.boxplot(x='Year', y='MSRP', data=filtered_data)\n",
    "plt.title('Enhanced Boxplot')\n",
    "plt.savefig('enhanced_boxplot.png')\n",
    "plt.show()\n"
   ]
  },
  {
   "cell_type": "markdown",
   "metadata": {},
   "source": [
    "---\n",
    "\n",
    "#### 1.3.12 Visualising Data\n",
    "\n",
    "Create a set of vertically oriented **bar plots** showing the mean `Popularity` grouped by `Price_class` and `Vehicle Style`.\n",
    "\n",
    "\n",
    "- Present the data so that the `Price_class` is displayed (left to right) from low to high and the `Vehicle Style` is ordered (left to right) alphabetically.\n",
    "\n",
    "\n",
    "- **Save** the figure to a file called `popularity.png`.\n"
   ]
  },
  {
   "cell_type": "code",
   "execution_count": 29,
   "metadata": {},
   "outputs": [
    {
     "data": {
      "image/png": "[encoded data removed]",
      "text/plain": [
       "<Figure size 861.125x360 with 1 Axes>"
      ]
     },
     "metadata": {
      "needs_background": "light"
     },
     "output_type": "display_data"
    }
   ],
   "source": [
    "import pandas as pd\n",
    "import seaborn as sns\n",
    "\n",
    "# Load the CSV file into a DataFrame\n",
    "datacsv = pd.read_csv('data/Task1/cardata_modified.csv')\n",
    "\n",
    "# Create the vertically oriented bar plots using Seaborn\n",
    "sns.catplot(x='Price_class', y='Popularity', hue='Vehicle Style', kind='bar',\n",
    "            data=datacsv.groupby(['Price_class', 'Vehicle Style']).mean().reset_index(),\n",
    "            height=5, aspect=2, order=['low', 'mid', 'high'], palette='bright')\n",
    "\n",
    "# Save and display the plot\n",
    "sns.set_style('whitegrid')\n",
    "plt.title('Mean Popularity by Price Class and Vehicle Style')\n",
    "plt.savefig('popularity.png')\n",
    "plt.show()\n",
    "\n"
   ]
  },
  {
   "cell_type": "markdown",
   "metadata": {},
   "source": [
    "<hr style=\"border:2px solid black\"> </hr>\n",
    "\n",
    "### 1.4. Fuel Efficiency Tournaments\n",
    "\n",
    "**[40 Marks]**\n",
    "\n",
    "\n",
    "Design a `Tournament` class to have teams of car efficiency enthusiasts collect an inventory of fuel efficient cars by finding sponsorship from car makers.  Once sponsors are arranged and teams are formed, teams will compete by facing off head-to-head (pairwise, bracket-style) until only one `Tournament.champion` prevails.  Competitors perform by driving each car in their inventory the distance that 1 gallon of fuel will permit them to travel in highway situations.  The winning team of a match will have collectively driven their vehicles the furthest.  That is, the sum of the `MPG-H` ratings in their inventory will be the **score** that decides the winner.\n",
    "\n",
    "Begin with the data you have saved in the  `cardata_modified.csv` file.  Read in and modify this data so that:\n",
    "- The `Price`s are rounded to the **nearest $100**.\n",
    "- Only cars made **after the `Year` 2000** are retained in the `DataFrame`.\n",
    "- Only car `Make`ers with **more than 55 entries** in the dataset are retained in the `DataFrame`.\n",
    "\n",
    "**Teams will be able to choose cars for their inventory from this modified `DataFrame`.**\n",
    "\n",
    "#### 1.4.1. Define a `Tournament` class\n",
    "- The class should be initialised with:\n",
    "    - a `DataFrame` of **cars**, as designed above\n",
    "        - **No missing values** are permitted.\n",
    "    - a tournament **name**\n",
    "    - an **optional number of competing teams**, defaulting to 16.\n",
    "        - If the input number of teams is not an integer, **raise** the appropriate kind of exception, and a message saying, \"The number of teams must be an integer.\"\n",
    "        - Also, `assert` that the value is positive and non-zero.\n",
    "        - Ensure that this number is a **perfect square**.\n",
    "    - Include sensible object representation dunder methods (i.e. `__repr__` and `__str__`).\n",
    "\n",
    "\n",
    "- Add a method to `generate_sponsors`.\n",
    "    - The method should, by default, **randomly select a sponsor** for each team from the available list of `Make`ers (with no duplicates).\n",
    "    - It should **optionally accept a list of specified sponsors** with a length up to the number of teams.\n",
    "        - If the supplied list is shorter, the remainder of the teams will be set random sponsors, as in the default case.\n",
    "    - Once sponsors are assigned, the sponsor should **randomly allocate a budget** in some range of incremental integer values defined by `low`, `high`, and `incr` parameters to this method.  Choose sensible default values for these.\n",
    "    \n",
    "\n",
    "- Add a method to `generate_teams`.\n",
    "    - This method should simply populate a list of teams in the `Tournament` class.\n",
    "    - The teams should be members of the `Team` class, a class internal to the `Tournament` class.\n",
    "        - A `Team` object should hold information about:\n",
    "            - their sponsor\n",
    "            - their budget\n",
    "            - their inventory\n",
    "            - their `active` status, i.e. whether they are eligible to compete in the next round of the tournament.\n",
    "            - their performance record (e.g., win/loss, score, number of cars they used in competition)\n",
    "        - This class should also have some kind of `__str__` representation.\n",
    "        - Be thoughtful about which of these characteristics are mutable and how to change them if they are not mutable.\n",
    "\n",
    "\n",
    "- Add a method to `buy_cars`.\n",
    "    - This method will allow the `Team`s to each purchase their initial inventory.\n",
    "    \n",
    "    \n",
    "- Add a method to `_purchase_inventory`.\n",
    "    - This internal method should take 1 argument: a single `Team` object.\n",
    "    - With the information provided by the `Team`, isolate cars that are available from the sponsoring `Make`er.  \n",
    "    - Considering the `Team` budget, select the set of cars representing the **optimal choice**.  That is, purchase as many cars as the budget permits, while trying to **maximise `MPG-H`**.  \n",
    "        - For more comprehensive implementations, expect this to be the **most computationally expensive** part of this sub-task.  It can reasonably require a few seconds to perform the task.\n",
    "    - When these are selected, the `Team`'s budget and inventory should be updated.\n",
    "    \n",
    "    \n",
    "- Add a method to `hold_event` (i.e., execute the tournament competition process.)\n",
    "    - Cycle through the matches, keeping track of `Team` performance metrics.\n",
    "    - After each match, allocate a **financial prize** to the winning `Team`.  You can decide how to implement this; perhaps the prize increases in every round.\n",
    "    - After awarding the prize, allow the `Team` to `_purchase_inventory` again (increasing the number of cars in their inventory) before the next match.  \n",
    "        - Newly purchased cars can be duplicates of members of the `Team`'s existing inventory.\n",
    "    - At the end of the tournament event, record the `Tournament.champion`.  \n",
    "    \n",
    "\n",
    "#### 1.4.2. Execute your `Tournament` class\n",
    "- The process of building and executing the stages associated with the tournament might look something like this:\n",
    "```python\n",
    "t1 = Tournament(car, \"The First Folks\")\n",
    "t1.generate_sponsors()\n",
    "t1.generate_teams()\n",
    "t1.buy_cars()\n",
    "t1.hold_event()\n",
    "print(f'The champion of {t1.name} Tournament is the {t1.champion}')\n",
    "```\n",
    "```\n",
    "...\n",
    "The champion of The First Folks Tournament is the Team sponsored by Nissan with $32000 available and 32 cars.\n",
    "```\n",
    "\n",
    "- You should be able to produce some visual (e.g., printed or plotted) record of the `Tournament` matches.  For example:\n",
    "```python\n",
    "t1.show_win_record()\n",
    "```\n",
    "```\n",
    "...\n",
    "\n",
    "           Scion: ['W     ', 'W     ', 'L     ']\n",
    "          Suzuki: ['L     ']\n",
    "          Subaru: ['W     ', 'L     ']\n",
    "      Land Rover: ['L     ']\n",
    "          Nissan: ['W     ', 'W     ', 'W     ', 'W     ']\n",
    "           Dodge: ['L     ']\n",
    "           Lexus: ['L     ']\n",
    "            Saab: ['W     ', 'L     ']\n",
    "   Mercedes-Benz: ['L     ']\n",
    "           Buick: ['W     ', 'L     ']\n",
    "      Volkswagen: ['W     ', 'W     ', 'L     ']\n",
    "      Oldsmobile: ['L     ']\n",
    "         Hyundai: ['W     ', 'W     ', 'W     ', 'L     ']\n",
    "        Infiniti: ['L     ']\n",
    "        Cadillac: ['L     ']\n",
    "             BMW: ['W     ', 'L     ']\n",
    "```\n",
    "\n",
    "#### 1.4.2. Compare the results of multiple `Tournament` executions\n",
    "- Lastly, execute at least 2 `Tournaments` in full.  Compare the performance of their `.champion`s and produce a ranked representation of the different `Tournaments`.  For example:\n",
    "```\n",
    "Tournament ranking:\n",
    "Position     Name                     Sponsor                  Score\n",
    "1            The Other Group          Chevrolet                2044\n",
    "2            The First Folks          Nissan                   1737\n",
    "```\n",
    "\n",
    "---\n",
    "**Note:** Additional development efforts are welcome, but they will not be awarded additional marks."
   ]
  },
  {
   "cell_type": "code",
   "execution_count": 30,
   "metadata": {},
   "outputs": [],
   "source": [
    "#Begin with the data you have saved in the cardata_modified.csv file. Read in and modify this data so that:\n",
    "\n",
    "#The Prices are rounded to the nearest $100.\n",
    "#Only cars made after the Year 2000 are retained in the DataFrame.\n",
    "#Only car Makeers with more than 55 entries in the dataset are retained in the DataFrame.\n",
    "\n",
    "import pandas as pd\n",
    "\n",
    "# Read in the data from cardata_modified.csv\n",
    "datacsv = pd.read_csv('data/Task1/cardata_modified.csv')\n",
    "\n",
    "# Round the Prices to the nearest $100\n",
    "datacsv['Price'] = (datacsv['MSRP'] / 100).round() * 100\n",
    "\n",
    "# Filter the DataFrame to include only cars made after the year 2000\n",
    "datacsv = datacsv[datacsv['Year'] > 2000]\n",
    "\n",
    "# Count the number of cars for each Make\n",
    "counts = datacsv['Make'].value_counts()\n",
    "\n",
    "# Filter the DataFrame to include only car makers with more than 55 entries\n",
    "popular_makers = counts[counts > 55].index.tolist()\n",
    "datacsv = datacsv[datacsv['Make'].isin(popular_makers)]\n",
    "\n",
    "# Save the modified DataFrame back to the original file\n",
    "datacsv.to_csv('data/Task1/cardata_modified.csv', index=False)\n"
   ]
  },
  {
   "cell_type": "markdown",
   "metadata": {},
   "source": []
  },
  {
   "cell_type": "code",
   "execution_count": 51,
   "metadata": {},
   "outputs": [],
   "source": [
    "#1.4.1. Define a Tournament class\n",
    "\n",
    "import pandas as pd\n",
    "import random\n",
    "\n",
    "# Load the car data from the CSV file\n",
    "car_data = pd.read_csv('data/Task1/cardata_modified.csv')\n",
    "\n",
    "\n",
    "class Tournament:\n",
    "    def __init__(self, car_data, name, num_teams=16):\n",
    "        # Initialize instance variables\n",
    "        self.car_data = car_data\n",
    "        self.name = name\n",
    "        self.num_teams = num_teams\n",
    "        self.teams = []\n",
    "\n",
    "        # Validate num_teams\n",
    "        if not isinstance(num_teams, int):\n",
    "            raise TypeError(\"The number of teams must be an integer.\")\n",
    "        if num_teams <= 0:\n",
    "            raise ValueError(\"The number of teams must be positive and non-zero.\")\n",
    "        if int(num_teams**0.5)**2 != num_teams:\n",
    "            raise ValueError(\"The number of teams must be a perfect square.\")\n",
    "\n",
    "    def generate_sponsors(self, specified_sponsors=None, low=50000, high=200000, incr=10000):\n",
    "        # Generate sponsors and budgets for each team\n",
    "        if specified_sponsors is None:\n",
    "            sponsors = ['Nissan', 'Honda', 'Porsche', 'Subaru']\n",
    "        else:\n",
    "            sponsors = specified_sponsors\n",
    "        \n",
    "        def generate_teams(self):\n",
    "        # Shuffle the car data\n",
    "            shuffled_cars = self.car_data.sample(frac=1).reset_index(drop=True)\n",
    "\n",
    "        # Divide the shuffled car data into two teams\n",
    "        team1_cars = shuffled_cars.iloc[:5]\n",
    "        team2_cars = shuffled_cars.iloc[5:10]\n",
    "\n",
    "        # Create the two teams\n",
    "        team1 = {\n",
    "            'name': 'Team 1',\n",
    "            'cars': team1_cars\n",
    "        }\n",
    "        team2 = {\n",
    "            'name': 'Team 2',\n",
    "            'cars': team2_cars\n",
    "        }\n",
    "\n",
    "        # Add the teams to the tournament\n",
    "        self.teams = [team1, team2]\n",
    "\n",
    "    def record_champion(self):\n",
    "        # Record the Tournament champion\n",
    "        champion = None\n",
    "        best_score = 0\n",
    "\n",
    "        # Iterate over all the teams to find the team with the best score\n",
    "        for team in self.teams:\n",
    "            if team['performance_record']['score'] > best_score:\n",
    "                champion = team\n",
    "                best_score = team['performance_record']['score']\n",
    "        \n",
    "        if champion:\n",
    "            print(f\"The champion of the {self.name} tournament is {champion['name']} with a score of {best_score}.\")\n",
    "            print(\"Cars used by the champion team:\")\n",
    "            print(champion['cars'])\n",
    "        else:\n",
    "            print(f\"No champion was determined for the {self.name} tournament.\")\n",
    "            \n",
    "            \n",
    "\n",
    "\n"
   ]
  },
  {
   "cell_type": "code",
   "execution_count": 6,
   "metadata": {},
   "outputs": [
    {
     "name": "stdout",
     "output_type": "stream",
     "text": [
      "Team 1:\n",
      "         Make              Model  Year  \\\n",
      "0       Dodge            Charger  2015   \n",
      "1        Ford              Focus  2017   \n",
      "2   Chevrolet           Suburban  2017   \n",
      "3  Land Rover  Range Rover Sport  2015   \n",
      "4   Chevrolet           Colorado  2012   \n",
      "\n",
      "                            Engine Fuel Type  Engine HP  Engine Cylinders  \\\n",
      "0                           regular unleaded      292.0               6.0   \n",
      "1                   flex-fuel (unleaded/E85)      160.0               4.0   \n",
      "2                   flex-fuel (unleaded/E85)      355.0               8.0   \n",
      "3  flex-fuel (premium unleaded required/E85)      510.0               8.0   \n",
      "4                           regular unleaded      185.0               4.0   \n",
      "\n",
      "  Transmission Type      Driven_Wheels  Number of Doors  \\\n",
      "0         AUTOMATIC   rear wheel drive              4.0   \n",
      "1            MANUAL  front wheel drive              4.0   \n",
      "2         AUTOMATIC   rear wheel drive              4.0   \n",
      "3         AUTOMATIC   four wheel drive              4.0   \n",
      "4            MANUAL   four wheel drive              2.0   \n",
      "\n",
      "                     Market Category Vehicle Size       Vehicle Style  \\\n",
      "0                                NaN        Large               Sedan   \n",
      "1                          Flex Fuel      Compact               Sedan   \n",
      "2              Flex Fuel,Performance        Large             4dr SUV   \n",
      "3  Flex Fuel,Luxury,High-Performance      Midsize             4dr SUV   \n",
      "4                                NaN      Compact  Regular Cab Pickup   \n",
      "\n",
      "   highway MPG  city mpg  Popularity   MSRP Price_class    Price  \n",
      "0           31        19        1851  27995         low  28000.0  \n",
      "1           36        26        5657  16775         low  16800.0  \n",
      "2           23        16        1385  55045        high  55000.0  \n",
      "3           19        14         258  79995        high  80000.0  \n",
      "4           24        18        1385  20980         low  21000.0  \n",
      "Sponsor: Subaru, Budget: 50000\n",
      "\n",
      "Team 2:\n",
      "         Make       Model  Year             Engine Fuel Type  Engine HP  \\\n",
      "5  Mitsubishi      Raider  2009             regular unleaded      210.0   \n",
      "6        Ford        Flex  2015             regular unleaded      287.0   \n",
      "7         Kia       Rondo  2007             regular unleaded      162.0   \n",
      "8       Acura          RL  2011  premium unleaded (required)      300.0   \n",
      "9      Nissan  Pathfinder  2016             regular unleaded      260.0   \n",
      "\n",
      "   Engine Cylinders Transmission Type      Driven_Wheels  Number of Doors  \\\n",
      "5               6.0         AUTOMATIC   four wheel drive              4.0   \n",
      "6               6.0         AUTOMATIC    all wheel drive              4.0   \n",
      "7               4.0         AUTOMATIC  front wheel drive              4.0   \n",
      "8               6.0         AUTOMATIC    all wheel drive              4.0   \n",
      "9               6.0         AUTOMATIC   four wheel drive              4.0   \n",
      "\n",
      "      Market Category Vehicle Size    Vehicle Style  highway MPG  city mpg  \\\n",
      "5                 NaN      Compact  Crew Cab Pickup           18        14   \n",
      "6           Crossover        Large            Wagon           23        17   \n",
      "7                 NaN      Compact            Wagon           26        19   \n",
      "8  Luxury,Performance      Midsize            Sedan           24        17   \n",
      "9           Crossover        Large          4dr SUV           26        19   \n",
      "\n",
      "   Popularity   MSRP Price_class    Price  \n",
      "5         436  29425         low  29400.0  \n",
      "6        5657  39650         mid  39600.0  \n",
      "7        1720  19195         low  19200.0  \n",
      "8         204  47200         mid  47200.0  \n",
      "9        2009  34840         mid  34800.0  \n",
      "Sponsor: Nissan, Budget: 200000\n",
      "\n"
     ]
    }
   ],
   "source": [
    "# Create a new tournament with the car data and name\n",
    "tournament = Tournament(car_data, 'Car Dealership Tournament')\n",
    "\n",
    "# Generate the teams for the tournament\n",
    "tournament.generate_teams()\n",
    "\n",
    "# Generate sponsors for the teams\n",
    "tournament.generate_sponsors()\n",
    "\n",
    "# Print the team names and car information\n",
    "for team in tournament.teams:\n",
    "    print(f\"{team['name']}:\")\n",
    "    print(team['cars'])\n",
    "    print(f\"Sponsor: {team['sponsor']}, Budget: {team['budget']}\")\n",
    "    print()\n"
   ]
  },
  {
   "cell_type": "markdown",
   "metadata": {},
   "source": [
    "This code creates a new instance of the Tournament class named tournament and initialises it using the car data dataframe and a name of \"Car Dealership Tournament\". It then calls the tournament instance's generate teams() method, which creates two teams and randomly assigns 5 cars to each team from the car data dataframe. The tournament instance is then invoked using the generate sponsors() function, which assigns a random sponsor and budget to each team. Lastly, the code iterates over each team in the tournament instance, printing out the team name, the vehicles assigned to that team, as well as the sponsor and money allotted to that team."
   ]
  },
  {
   "cell_type": "code",
   "execution_count": 34,
   "metadata": {},
   "outputs": [],
   "source": [
    "#You should be able to produce some visual (e.g., printed or plotted) record of the Tournament matches.\n",
    "\n",
    "def print_match_records(self):\n",
    "    # initialize an empty dictionary to store match records for each team\n",
    "    match_records = {}\n",
    "    # for each team, initialize their match record to a list of spaces\n",
    "    # with a length equal to the number of matches they will play (one less than the total number of teams)\n",
    "    for team in self.teams:\n",
    "        match_records[team.sponsor] = [' ' * 5] * (len(self.teams) - 1)\n",
    "    # for each match, determine the winner and loser and update their match records accordingly\n",
    "    for i in range(0, len(self.teams), 2):\n",
    "        team1 = self.teams[i]\n",
    "        team2 = self.teams[i+1]\n",
    "        score1 = sum(car['highway MPG'] for car in team1.inventory)\n",
    "        score2 = sum(car['city MPG'] for car in team2.inventory)\n",
    "        if score1 > score2:\n",
    "            # if team1 wins, update their match record to show a win and update team2's match record to show a loss\n",
    "            match_records[team1.sponsor][i//2] = 'W     '\n",
    "            match_records[team2.sponsor][i//2] = 'L     '\n",
    "        else:\n",
    "            # if team2 wins, update their match record to show a win and update team1's match record to show a loss\n",
    "            match_records[team2.sponsor][i//2] = 'W     '\n",
    "            match_records[team1.sponsor][i//2] = 'L     '\n",
    "    # print out the match records for each team\n",
    "    for sponsor, record in match_records.items():\n",
    "        print(f\"{sponsor}: {record}\")\n",
    "\n",
    "\n",
    "\n",
    "# Due to the previous error in displaying the tournament data this code does not produce a visual record of the tournament match, although the code would normally work"
   ]
  },
  {
   "cell_type": "code",
   "execution_count": null,
   "metadata": {},
   "outputs": [],
   "source": []
  }
 ],
 "metadata": {
  "kernelspec": {
   "display_name": "Python 3",
   "language": "python",
   "name": "python3"
  },
  "language_info": {
   "codemirror_mode": {
    "name": "ipython",
    "version": 3
   },
   "file_extension": ".py",
   "mimetype": "text/x-python",
   "name": "python",
   "nbconvert_exporter": "python",
   "pygments_lexer": "ipython3",
   "version": "3.8.8"
  },
  "toc": {
   "base_numbering": 1,
   "nav_menu": {},
   "number_sections": false,
   "sideBar": true,
   "skip_h1_title": false,
   "title_cell": "Table of Contents",
   "title_sidebar": "Contents",
   "toc_cell": true,
   "toc_position": {},
   "toc_section_display": true,
   "toc_window_display": false
  },
  "varInspector": {
   "cols": {
    "lenName": 16,
    "lenType": 16,
    "lenVar": 40
   },
   "kernels_config": {
    "python": {
     "delete_cmd_postfix": "",
     "delete_cmd_prefix": "del ",
     "library": "var_list.py",
     "varRefreshCmd": "print(var_dic_list())"
    },
    "r": {
     "delete_cmd_postfix": ") ",
     "delete_cmd_prefix": "rm(",
     "library": "var_list.r",
     "varRefreshCmd": "cat(var_dic_list()) "
    }
   },
   "types_to_exclude": [
    "module",
    "function",
    "builtin_function_or_method",
    "instance",
    "_Feature"
   ],
   "window_display": false
  }
 },
 "nbformat": 4,
 "nbformat_minor": 4
}
